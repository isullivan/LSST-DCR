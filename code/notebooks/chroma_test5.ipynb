{
 "cells": [
  {
   "cell_type": "markdown",
   "metadata": {},
   "source": [
    "Try to compute DCR for a given SED.\n",
    "\n",
    "Use a SED from the sims package. Let's do this full-out from SED library as in ACB's S14DCR code.\n",
    "\n",
    "First need to do:\n",
    "\n",
    "```\n",
    "setup -t b1740 sims_sed_library\n",
    "setup -t b1740 throughputs\n",
    "setup -t b1740 sims_photUtils\n",
    "```"
   ]
  },
  {
   "cell_type": "code",
   "execution_count": 1,
   "metadata": {
    "collapsed": false
   },
   "outputs": [],
   "source": [
    "import os\n",
    "import numpy as np\n",
    "\n",
    "#import dcr\n",
    "#import spec    ## dont forget to add $HOME/GIT_REPOS/chroma/chroma to PYTHONPATH before starting ipython notebook\n",
    "#import plot\n",
    "#import utils\n",
    "\n",
    "#import _mypath\n",
    "#import chroma\n",
    "\n",
    "#bpDir = '/Users/dreiss/GIT_REPOS/chroma/data/filters/'\n",
    "#bpDir = '/Users/dreiss/lsstsw/stack/DarwinX86/throughputs/master-ga98b3deed1/baseline/'\n",
    "bpDir = os.environ['LSST_THROUGHPUTS_DEFAULT']\n",
    "catDir = os.environ['SIMS_SED_LIBRARY_DIR']\n",
    "\n",
    "import matplotlib\n",
    "import matplotlib.pyplot as plt\n",
    "%matplotlib inline\n",
    "\n",
    "matplotlib.style.use('ggplot')\n",
    "\n",
    "## see http://matplotlib.org/users/colormaps.html for colormaps\n",
    "from matplotlib import cm"
   ]
  },
  {
   "cell_type": "code",
   "execution_count": 2,
   "metadata": {
    "collapsed": true
   },
   "outputs": [],
   "source": [
    "import pandas as pd\n",
    "\n",
    "## see: https://stackoverflow.com/questions/19536817/manipulate-html-module-font-size-in-ipython-notebook\n",
    "class sizeme():\n",
    "    \"\"\" Class to change html fontsize of object's representation\"\"\"\n",
    "    def __init__(self,ob, size=50, height=120):\n",
    "        self.ob = ob\n",
    "        self.size = size\n",
    "        self.height = height\n",
    "    def _repr_html_(self):\n",
    "        repl_tuple = (self.size, self.height, self.ob._repr_html_())\n",
    "        return u'<span style=\"font-size:{0}%; line-height:{1}%\">{2}</span>'.format(*repl_tuple)"
   ]
  },
  {
   "cell_type": "code",
   "execution_count": 3,
   "metadata": {
    "collapsed": true
   },
   "outputs": [],
   "source": [
    "import lsst.sims.photUtils.Sed as Sed\n",
    "import lsst.sims.photUtils.Bandpass as Bandpass\n",
    "import lsst.sims.photUtils.BandpassDict as bpDict"
   ]
  },
  {
   "cell_type": "code",
   "execution_count": 13,
   "metadata": {
    "collapsed": false
   },
   "outputs": [
    {
     "data": {
      "text/plain": [
       "[<matplotlib.lines.Line2D at 0x10befe790>]"
      ]
     },
     "execution_count": 13,
     "metadata": {},
     "output_type": "execute_result"
    },
    {
     "data": {
      "image/png": "[encoded data removed]",
      "text/plain": [
       "<matplotlib.figure.Figure at 0x10bf94690>"
      ]
     },
     "metadata": {},
     "output_type": "display_data"
    }
   ],
   "source": [
    "contLevel  = 0.01\n",
    "dcrLevel   = 5e-3\n",
    "sedName    = \"km15_5250.fits_g05_5470.gz\"\n",
    "airmass1   = 1.25                                                                                                                                       \n",
    "dairmasses = np.arange(-0.25, 0.26, 0.05)                                                                                                               \n",
    "dthetas    = np.arange(0, 181, 5)\n",
    "zd1        = np.arccos(1./airmass1) * 180/np.pi\n",
    "\n",
    "# Extracted from Winter2014 DCR3.py\n",
    "def getOffset(wavelen, flux, zd):\n",
    "    off = refract(wavelen*10**-3,  zd * np.pi / 180.) * 180. / np.pi * 3600. # arcsec\n",
    "    return np.sum(off * flux) / np.sum(flux)\n",
    "\n",
    "def refract(wavelength, zd, P=520.0, T=20.0, f=8.0):\n",
    "    xnm1  = 10**-6 * ( 64.328 + 29498.1 / (146.0 - 1/wavelength**2) + 255.4 / (41.0 - 1/wavelength**2) )\n",
    "    xnm1 *= P * (1 + (1.049 - 0.0157 * T) * 10**-6 * P) / (720.883 * (1 + 0.003661 * T))\n",
    "    xnm1 -= 10**-6 * f * (0.0624 - 0.000680/wavelength**2) / (1 + 0.003661 * T)\n",
    "    xn    = xnm1 + 1\n",
    "    r0    = (xn**2 - 1) / (2 * xn**2)\n",
    "    of    = r0 * np.tan(zd) # radians\n",
    "    return of\n",
    "\n",
    "star_SEDname = \"km15_5250.fits_g05_5470.gz\"\n",
    "star = Sed()\n",
    "star.readSED_flambda(os.path.join(catDir, \"starSED/%s/%s%s\" % ('kurucz', star_SEDname, '')))\n",
    "star.flambdaTofnu()\n",
    "\n",
    "wavelen = star.wavelen\n",
    "fnu = star.fnu\n",
    "plt.plot(wavelen, fnu)"
   ]
  },
  {
   "cell_type": "code",
   "execution_count": 38,
   "metadata": {
    "collapsed": false
   },
   "outputs": [
    {
     "name": "stdout",
     "output_type": "stream",
     "text": [
      "29.0051452645\n",
      "[  0.          17.75279016  24.61997733  29.59184579  33.55730976\n",
      "  36.86989765  39.71513723  42.2054464   44.4153086   46.39718103\n",
      "  48.1896851 ] [  0.          12.38156991  17.7224365   21.96234154  25.65311569\n",
      "  29.00514526  32.12464424  35.07371226  37.8921631   40.60720337\n",
      "  43.23831767]\n"
     ]
    }
   ],
   "source": [
    "bps = bpDict.loadTotalBandpassesFromFiles()\n",
    "#print bps.keys()\n",
    "#print bps.fluxDictForSed(star)\n",
    "#print bps['g'].wavelen\n",
    "waveleng, fnug = star.resampleSED(wavelen, fnu, wavelen_match=bps['g'].wavelen)\n",
    "fluxg = fnug * bps['g'].phi\n",
    "dg1 = getOffset(waveleng, fluxg, zd1)\n",
    "print dg1\n",
    "\n",
    "zd2 = np.arccos(1./(airmass1 + dairmasses)) * 180./np.pi\n",
    "dg2 = np.array([getOffset(waveleng, fluxg, zd) for zd in zd2])\n",
    "print zd2, dg2\n",
    "\n",
    "## wtf is this doing?\n",
    "#Mg[ia, it] = print np.sqrt(dg1**2 + dg2**2 - 2 * dg1 * dg2 * np.cos(dthetas * np.pi / 180))"
   ]
  },
  {
   "cell_type": "markdown",
   "metadata": {},
   "source": [
    "Looks like chroma.spec has a few useful functions like \n",
    "\n",
    "```\n",
    "calculateDCRMomentShifts(self, bandpass, **kwargs):\n",
    "```\n",
    "\n",
    "        @returns a tuple.  The first element is the vector of DCR first moment shifts, and the\n",
    "                 second element is the 2x2 matrix of DCR second (central) moment shifts.\n"
   ]
  },
  {
   "cell_type": "markdown",
   "metadata": {},
   "source": [
    "Use same stellar spectrum as S14 study, to start..."
   ]
  },
  {
   "cell_type": "code",
   "execution_count": 11,
   "metadata": {
    "collapsed": false
   },
   "outputs": [
    {
     "ename": "NameError",
     "evalue": "name 'spec' is not defined",
     "output_type": "error",
     "traceback": [
      "\u001b[0;31m---------------------------------------------------------------------------\u001b[0m",
      "\u001b[0;31mNameError\u001b[0m                                 Traceback (most recent call last)",
      "\u001b[0;32m<ipython-input-11-69e35c22f7d0>\u001b[0m in \u001b[0;36m<module>\u001b[0;34m()\u001b[0m\n\u001b[1;32m      9\u001b[0m \u001b[0mss\u001b[0m \u001b[0;34m=\u001b[0m \u001b[0minterp1d\u001b[0m\u001b[0;34m(\u001b[0m\u001b[0mw\u001b[0m\u001b[0;34m,\u001b[0m \u001b[0mf\u001b[0m\u001b[0;34m)\u001b[0m\u001b[0;34m\u001b[0m\u001b[0m\n\u001b[1;32m     10\u001b[0m \u001b[0;34m\u001b[0m\u001b[0m\n\u001b[0;32m---> 11\u001b[0;31m \u001b[0mSED\u001b[0m \u001b[0;34m=\u001b[0m \u001b[0mspec\u001b[0m\u001b[0;34m.\u001b[0m\u001b[0mSED\u001b[0m\u001b[0;34m(\u001b[0m\u001b[0mss\u001b[0m\u001b[0;34m)\u001b[0m \u001b[0;31m##.atRedshift(0.5)\u001b[0m\u001b[0;34m\u001b[0m\u001b[0m\n\u001b[0m\u001b[1;32m     12\u001b[0m \u001b[0mwave\u001b[0m \u001b[0;34m=\u001b[0m \u001b[0mnp\u001b[0m\u001b[0;34m.\u001b[0m\u001b[0marange\u001b[0m\u001b[0;34m(\u001b[0m\u001b[0;36m500.0\u001b[0m\u001b[0;34m,\u001b[0m \u001b[0;36m901.0\u001b[0m\u001b[0;34m,\u001b[0m \u001b[0;36m1.0\u001b[0m\u001b[0;34m)\u001b[0m\u001b[0;34m\u001b[0m\u001b[0m\n\u001b[1;32m     13\u001b[0m \u001b[0mphotons\u001b[0m \u001b[0;34m=\u001b[0m \u001b[0mSED\u001b[0m\u001b[0;34m(\u001b[0m\u001b[0mwave\u001b[0m\u001b[0;34m)\u001b[0m\u001b[0;34m\u001b[0m\u001b[0m\n",
      "\u001b[0;31mNameError\u001b[0m: name 'spec' is not defined"
     ]
    }
   ],
   "source": [
    "from scipy.interpolate import interp1d\n",
    "\n",
    "#gal_SED = spec.SED(datadir+'/SEDs/'+'KIN_Sa_ext.ascii')\n",
    "star_SEDname = \"km15_5250.fits_g05_5470.gz\"\n",
    "w,f = np.genfromtxt(catDir+'/starSED/kurucz/'+star_SEDname).T\n",
    "#toAppend = np.arange(w.max()+0.5,1200.,0.5)\n",
    "#w = np.append(w, toAppend)\n",
    "#f = np.append(f, np.zeros_like(toAppend))\n",
    "ss = interp1d(w, f)\n",
    "\n",
    "SED = spec.SED(ss) ##.atRedshift(0.5)\n",
    "wave = np.arange(500.0, 901.0, 1.0)\n",
    "photons = SED(wave)\n",
    "\n",
    "scale = 1.2 * photons[(wave > 500) & (wave < 1000)].max()\n",
    "plt.plot(wave, photons) #/scale)"
   ]
  },
  {
   "cell_type": "markdown",
   "metadata": {
    "collapsed": true
   },
   "source": [
    "Make a relative DCR curve for star (assume ZD angle 20 deg.)"
   ]
  },
  {
   "cell_type": "code",
   "execution_count": 25,
   "metadata": {
    "collapsed": false
   },
   "outputs": [
    {
     "data": {
      "text/plain": [
       "<matplotlib.text.Text at 0x10bc5f450>"
      ]
     },
     "execution_count": 25,
     "metadata": {},
     "output_type": "execute_result"
    },
    {
     "data": {
      "image/png": "[encoded data removed]",
      "text/plain": [
       "<matplotlib.figure.Figure at 0x10bb92790>"
      ]
     },
     "metadata": {},
     "output_type": "display_data"
    }
   ],
   "source": [
    "# filters are stored in two columns: wavelength (nm), and throughput\n",
    "\n",
    "def compute_dcr(SED, filters='ugrizy', angles=np.linspace(0,70,14), relative=None, **kwargs):\n",
    "    if type(angles) is int or type(angles) is float:\n",
    "        angles = np.array([angles])\n",
    "    elif type(angles) is list:\n",
    "        angles = np.array(angles)        \n",
    "    if type(filters) is int or type(filters) is float:\n",
    "        filters = np.array([filters])\n",
    "    df = pd.DataFrame(pd.Series(angles)) #, index=pd.Series(angles))\n",
    "    for i, filter_ in enumerate(filters):\n",
    "        if type(filter_) is str:\n",
    "            fdata = spec.Bandpass(bpDir+'/filter_{}.dat'.format(filter_))\n",
    "            fwave, throughput = fdata.wave_list, fdata(fdata.wave_list)\n",
    "            shifts = np.array( [SED.calculateDCRMomentShifts(fdata, zenith_angle=angle * np.pi/180.0, **kwargs)[0].item(1) \n",
    "                            for angle in angles])\n",
    "            shifts = shifts * 3600.0 * 180.0/np.pi            \n",
    "            df = pd.concat([df, pd.Series(shifts)], axis=1, ignore_index=True)\n",
    "        else: # assume it's a single wavelength value (nm) then\n",
    "            shifts = np.array( [dcr.get_refraction(filter_, zenith=angle * np.pi/180.0, **kwargs) for angle in angles])\n",
    "            shifts = shifts * 3600.0 * 180.0/np.pi            \n",
    "            df = pd.concat([df, pd.Series(shifts)], axis=1, ignore_index=True)\n",
    "             \n",
    "    df.columns = np.insert(np.array(list(filters), dtype='S6'), 0, 'angle')\n",
    "    df = df.set_index('angle')\n",
    "    if relative is not None and np.any(df.columns.values == relative):\n",
    "        df2 = df.copy().sub(df[relative], axis=0)\n",
    "        return df2\n",
    "    else:\n",
    "        return df\n",
    "\n",
    "angles = np.linspace(0,70,71)\n",
    "\n",
    "DCRs = compute_dcr(SED, 'ugrizy', angles)\n",
    "ax = DCRs.plot(colormap=cm.rainbow)\n",
    "ax.set_ylabel('Total refraction (star), arcsec')\n",
    "\n",
    "#DCRs = compute_dcr(sn_SED, 'ugrizy', angles, relative='r')\n",
    "#ax = DCRs.plot(colormap=cm.rainbow)\n",
    "#ax.set_ylabel('Relative refraction, arcsec')"
   ]
  },
  {
   "cell_type": "code",
   "execution_count": 26,
   "metadata": {
    "collapsed": false
   },
   "outputs": [
    {
     "data": {
      "text/plain": [
       "<matplotlib.text.Text at 0x10b0e5350>"
      ]
     },
     "execution_count": 26,
     "metadata": {},
     "output_type": "execute_result"
    },
    {
     "data": {
      "image/png": "[encoded data removed]",
      "text/plain": [
       "<matplotlib.figure.Figure at 0x10bb800d0>"
      ]
     },
     "metadata": {},
     "output_type": "display_data"
    }
   ],
   "source": [
    "DCRs = compute_dcr(SED, 'ugrizy', angles, relative='r')\n",
    "ax = DCRs.plot(colormap=cm.rainbow)\n",
    "ax.set_ylabel('Relative refraction (star), arcsec')\n",
    "\n",
    "#DCRs_gal = compute_dcr(gal_SED, 'ugrizy', angles, relative='r')\n",
    "#ax = DCRs_gal.plot(colormap=cm.rainbow)\n",
    "#ax.set_ylabel('Relative refraction, arcsec')"
   ]
  },
  {
   "cell_type": "code",
   "execution_count": 23,
   "metadata": {
    "collapsed": false
   },
   "outputs": [
    {
     "name": "stdout",
     "output_type": "stream",
     "text": [
      "520.00267922\n",
      "562.021127884\n",
      "\n",
      "1.00018577948\n",
      "1.00018582692\n",
      "\n",
      "13.9433693327\n",
      "14.0878418669\n",
      "13.0928475368\n",
      "\n",
      "13.9433693327\n",
      "14.0878418669\n",
      "13.0928475368\n",
      "\n",
      "13.9322461535\n",
      "14.0766034703\n",
      "13.0824026646\n",
      "\n",
      "13.9322461535\n"
     ]
    }
   ],
   "source": [
    "print 69.328/0.13332239\n",
    "print 749.3/10./0.13332239\n",
    "print\n",
    "print dcr.air_refractive_index(600.)\n",
    "print dcr.air_refractive_index2(600.)\n",
    "print\n",
    "print dcr.get_refraction(600., 20. * np.pi/180.0, pressure=69.328, temperature=293.15, H2O_pressure=1.067)  * 3600.0 * 180.0/np.pi\n",
    "print dcr.get_refraction(600., 20. * np.pi/180.0, pressure=69.328, temperature=293.15-3., H2O_pressure=1.067)  * 3600.0 * 180.0/np.pi\n",
    "print dcr.get_refraction(600., 20. * np.pi/180.0, pressure=69.328, temperature=293.15+19., H2O_pressure=1.067)  * 3600.0 * 180.0/np.pi\n",
    "print\n",
    "print compute_dcr(SED, filters=600., angles=20., temperature=293.15).ix[20][0]\n",
    "print compute_dcr(SED, filters=600., angles=20., temperature=293.15-3.).ix[20][0]\n",
    "print compute_dcr(SED, filters=600., angles=20., temperature=293.15+19.).ix[20][0]\n",
    "print\n",
    "print compute_dcr(SED, filters='r', angles=20., temperature=293.15).ix[20][0]\n",
    "print compute_dcr(SED, filters='r', angles=20., temperature=293.15-3.).ix[20][0]\n",
    "print compute_dcr(SED, filters='r', angles=20., temperature=293.15+19.).ix[20][0]\n",
    "print\n",
    "print compute_dcr(SED, filters='r', angles=20., temperature=293.15).ix[20][0]\n"
   ]
  },
  {
   "cell_type": "code",
   "execution_count": null,
   "metadata": {
    "collapsed": true
   },
   "outputs": [],
   "source": []
  }
 ],
 "metadata": {
  "kernelspec": {
   "display_name": "Python 2",
   "language": "python",
   "name": "python2"
  },
  "language_info": {
   "codemirror_mode": {
    "name": "ipython",
    "version": 2
   },
   "file_extension": ".py",
   "mimetype": "text/x-python",
   "name": "python",
   "nbconvert_exporter": "python",
   "pygments_lexer": "ipython2",
   "version": "2.7.10"
  }
 },
 "nbformat": 4,
 "nbformat_minor": 0
}
