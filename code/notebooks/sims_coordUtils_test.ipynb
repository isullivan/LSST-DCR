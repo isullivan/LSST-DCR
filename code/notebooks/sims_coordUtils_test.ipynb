{
 "cells": [
  {
   "cell_type": "markdown",
   "metadata": {},
   "source": [
    "Looks like sims_coordUtils has dcr calc's already built in - let's try using those.  \n",
    "First, need to\n",
    "```\n",
    "setup -t b1740 sims_coordUtils\n",
    "```"
   ]
  },
  {
   "cell_type": "code",
   "execution_count": 9,
   "metadata": {
    "collapsed": true
   },
   "outputs": [],
   "source": [
    "import os\n",
    "import numpy as np\n",
    "\n",
    "import matplotlib\n",
    "import matplotlib.pyplot as plt\n",
    "%matplotlib inline\n",
    "\n",
    "matplotlib.style.use('ggplot')\n",
    "## see http://matplotlib.org/users/colormaps.html for colormaps\n",
    "from matplotlib import cm\n",
    "\n",
    "import pandas as pd\n",
    "\n",
    "## see: https://stackoverflow.com/questions/19536817/manipulate-html-module-font-size-in-ipython-notebook\n",
    "class sizeme():\n",
    "    \"\"\" Class to change html fontsize of object's representation\"\"\"\n",
    "    def __init__(self,ob, size=50, height=120):\n",
    "        self.ob = ob\n",
    "        self.size = size\n",
    "        self.height = height\n",
    "    def _repr_html_(self):\n",
    "        repl_tuple = (self.size, self.height, self.ob._repr_html_())\n",
    "        return u'<span style=\"font-size:{0}%; line-height:{1}%\">{2}</span>'.format(*repl_tuple)"
   ]
  },
  {
   "cell_type": "markdown",
   "metadata": {},
   "source": [
    "First compare to results of S14 and chroma"
   ]
  },
  {
   "cell_type": "code",
   "execution_count": 43,
   "metadata": {
    "collapsed": false
   },
   "outputs": [
    {
     "name": "stdout",
     "output_type": "stream",
     "text": [
      "693.276315516\n",
      "0.698131700798\n",
      "-1.09413880304\n"
     ]
    }
   ],
   "source": [
    "import lsst.sims.coordUtils.AstrometryUtils as au\n",
    "import lsst.sims.utils.Site as Site\n",
    "\n",
    "P = 520.0\n",
    "T = 20.0\n",
    "f = 8.0\n",
    "## set these to exactly the same values as in S14 code...\n",
    "pressure = P / 7.50061683 * 10. ## kilopascal to millibars\n",
    "temperature = T + 273.15\n",
    "H2O_pressure = f / 7.5006168\n",
    "print pressure\n",
    "\n",
    "## meanTemperature=284.655, meanPressure=749.3, meanHumidity=0.4\n",
    "lsstSite = Site(meanTemperature=temperature, meanPressure=pressure)\n",
    "\n",
    "zd = 40. * np.pi / 180.\n",
    "print zd\n",
    "\n",
    "wave1 = 625.\n",
    "refco = au.refractionCoefficients(wave1/1000., lsstSite) ## takes wavelength in microns\n",
    "ref1 = (au.applyRefraction(zd, refco[0], refco[1]) - zd) * 180.0 / np.pi * 3600.\n",
    "\n",
    "wave2 = 350.\n",
    "refco = au.refractionCoefficients(wave2/1000., lsstSite) ## wavelength in microns\n",
    "ref2 = (au.applyRefraction(zd, refco[0], refco[1]) - zd) * 180.0 / np.pi * 3600.\n",
    "\n",
    "print ref2 - ref1"
   ]
  },
  {
   "cell_type": "markdown",
   "metadata": {},
   "source": [
    "OK, pretty close to value of -1.1090956807 from S14 and chroma -- note that I'm not sure how to get the H2O pressure the same so these results are pretty good.\n",
    "\n",
    "How do I convert kilopascals of H2O pressure into the \"humidity\" expected by `Site`?  \n",
    "Update -- apparently `meanHumidity` doesn't affect the results at all."
   ]
  },
  {
   "cell_type": "markdown",
   "metadata": {},
   "source": [
    "## OK, I have deduced that there is a difference  \n",
    "between the way these offsets are calculated (using the pal library) and they way `chroma` and `S14` do it.\n",
    "See [here](https://github.com/Starlink/pal/blob/master/palRefz.c).   \n",
    "The `palpy` routines are used for the sims, to do from unrefracted to refracted. We want to go the other way which is not just a matter of negating the output.  \n",
    "This needs to be investigated more.  \n",
    "\n",
    "OK, I investigated it ... `au.applyRefraction()` uses `palpy.refco()` whereas we want to use `palpy.refro`. So let's do that...\n",
    "\n",
    "Just some notes from the `palRefro` code. It uses a different function to compute DCR than the Fillipenko one used in my other notebooks...  \n",
    "```\n",
    "- The routine computes the refraction for zenith distances up\n",
    "*     to and a little beyond 90 deg using the method of Hohenkerk\n",
    "*     and Sinclair (NAO Technical Notes 59 and 63, subsequently adopted\n",
    "*     in the Explanatory Supplement, 1992 edition - see section 3.281).\n",
    "```\n",
    "This reference is [here](http://astro.ukho.gov.uk/data/tn/naotn63.pdf) !!! It is worth a read.\n",
    "\n",
    "see other possibly relevant notes [here](https://github.com/Starlink/pal/blob/master/palRefro.c)."
   ]
  },
  {
   "cell_type": "code",
   "execution_count": 80,
   "metadata": {
    "collapsed": false
   },
   "outputs": [
    {
     "name": "stdout",
     "output_type": "stream",
     "text": [
      "693.276315516\n",
      "0.698131700798\n",
      "1.09485775786\n"
     ]
    }
   ],
   "source": [
    "import palpy\n",
    "import lsst.sims.utils.Site as Site\n",
    "\n",
    "P = 520.0\n",
    "T = 20.0\n",
    "f = 8.0\n",
    "## set these to exactly the same values as in S14 code...\n",
    "pressure = P / 7.50061683 * 10. ## kilopascal to millibars\n",
    "temperature = T + 273.15\n",
    "H2O_pressure = f / 7.5006168\n",
    "print pressure\n",
    "\n",
    "site = Site(meanTemperature=temperature, meanPressure=pressure)\n",
    "\n",
    "def computeRefro(zd, wavelength, site):\n",
    "    ref1 = palpy.refro(zd, site.height,\n",
    "                    site.meanTemperature,\n",
    "                    site.meanPressure,\n",
    "                    site.meanHumidity,\n",
    "                    wavelength/1000.,\n",
    "                    site.latitude,\n",
    "                    site.lapseRate,\n",
    "                    1.e-8) * 180.0 / np.pi * 3600.\n",
    "    return ref1\n",
    "\n",
    "zd = 40. * np.pi / 180.\n",
    "print zd\n",
    "\n",
    "wave1 = 625.\n",
    "ref1 = computeRefro(zd, wave1, site)\n",
    "\n",
    "wave2 = 350.\n",
    "ref2 = computeRefro(zd, wave2, site)\n",
    "\n",
    "print (ref2 - ref1)"
   ]
  },
  {
   "cell_type": "markdown",
   "metadata": {},
   "source": [
    "### OK, let's do the same SED-based DCR calc's as in the S14 test notebook..."
   ]
  },
  {
   "cell_type": "code",
   "execution_count": 81,
   "metadata": {
    "collapsed": false
   },
   "outputs": [],
   "source": [
    "import lsst.sims.photUtils.Sed as Sed\n",
    "import lsst.sims.photUtils.Bandpass as Bandpass\n",
    "import lsst.sims.photUtils.BandpassDict as bpDict\n",
    "\n",
    "bpDir = os.environ['LSST_THROUGHPUTS_DEFAULT']\n",
    "catDir = os.environ['SIMS_SED_LIBRARY_DIR']\n",
    "star_SEDname = \"km15_5250.fits_g05_5470.gz\"\n",
    "star = Sed()\n",
    "star.readSED_flambda(os.path.join(catDir, \"starSED/%s/%s%s\" % ('kurucz', star_SEDname, '')))\n",
    "star.flambdaTofnu()\n",
    "\n",
    "bps = bpDict.loadTotalBandpassesFromFiles()\n",
    "for bp in bps.keys():\n",
    "    bpobj = bps[bp]\n",
    "    bpobj.phi[bpobj.phi <= 1.e-4] = 0.\n",
    "    bpobj.phi[(bpobj.wavelen > bpobj.wavelen_max)] = 0.\n",
    "    bpobj.phi[(bpobj.wavelen < bpobj.wavelen_min)] = 0.\n",
    "    \n",
    "#waveleng, fnug = star.resampleSED(star.wavelen, star.fnu, wavelen_match=bps['g'].wavelen)\n",
    "#nphotong = fnug / waveleng\n",
    "#plt.plot(waveleng[(waveleng > 500) & (waveleng < 1000)], nphotong[(waveleng > 500) & (waveleng < 1000)])"
   ]
  },
  {
   "cell_type": "code",
   "execution_count": 96,
   "metadata": {
    "collapsed": false
   },
   "outputs": [
    {
     "name": "stdout",
     "output_type": "stream",
     "text": [
      "28.9777750442\n",
      "-0.0275019427989\n",
      "28.9777750442\n"
     ]
    }
   ],
   "source": [
    "airmass1   = 1.25                                                                                                                                       \n",
    "dairmasses = np.arange(-0.25, 0.26, 0.05)                                                                                                               \n",
    "dthetas    = np.arange(0, 181, 5)\n",
    "zd1        = np.arccos(1./airmass1)# * 180/np.pi\n",
    "\n",
    "waveleng, fnug = star.resampleSED(star.wavelen, star.fnu, wavelen_match=bps['g'].wavelen)\n",
    "fnug[0] = 0.   ## is nan for some reason?\n",
    "#dg1 = getOffset(waveleng, fluxg, zd1)\n",
    "\n",
    "off = np.array([computeRefro(zd1, wave, site) for wave in waveleng])\n",
    "    \n",
    "#print refracts\n",
    "fluxg = fnug * bps['g'].phi\n",
    "dg1 = np.sum(off * fluxg) / np.sum(fluxg)\n",
    "print dg1\n",
    "print dg1 - 29.005276987"
   ]
  },
  {
   "cell_type": "markdown",
   "metadata": {},
   "source": [
    "### Whew, this is 0.0275 arcsec off of the `S14` estimate. Is that okay?"
   ]
  },
  {
   "cell_type": "code",
   "execution_count": 97,
   "metadata": {
    "collapsed": false
   },
   "outputs": [
    {
     "data": {
      "text/plain": [
       "<matplotlib.axes._subplots.AxesSubplot at 0x111ed3cd0>"
      ]
     },
     "execution_count": 97,
     "metadata": {},
     "output_type": "execute_result"
    },
    {
     "data": {
      "image/png": "[encoded data removed]",
      "text/plain": [
       "<matplotlib.figure.Figure at 0x112d54a10>"
      ]
     },
     "metadata": {},
     "output_type": "display_data"
    }
   ],
   "source": [
    "def getOffset(wavelen, flux, zd, site):\n",
    "    off = np.array([computeRefro(zd, wave, site) for wave in waveleng])\n",
    "    dg1 = np.sum(off * flux) / np.sum(flux)\n",
    "    return dg1\n",
    "    \n",
    "print getOffset(waveleng, fluxg, zd1, site)\n",
    "\n",
    "angles = np.linspace(0,70,71)\n",
    "#for zd in angles:\n",
    "#    print zd, getOffset(waveleng, fluxg, zd * np.pi / 180., site)\n",
    "\n",
    "dg2 = np.array([getOffset(waveleng, fluxg, zd * np.pi / 180., site) for zd in angles])   ## in zd2])\n",
    "tmp_df = pd.DataFrame({'zd': angles, 'dg': dg2})\n",
    "tmp_df.plot(x='zd', y='dg')"
   ]
  },
  {
   "cell_type": "markdown",
   "metadata": {},
   "source": [
    "### Now could try to speed this up by using `palpy.refroVector()`...  \n",
    "But in this func., zd is the vector (would be nice if wavelength was the vector instead...).  \n",
    "Might have to reimplement such a thing, if we go with these functions.  \n",
    "This is still slow..."
   ]
  },
  {
   "cell_type": "code",
   "execution_count": 126,
   "metadata": {
    "collapsed": false
   },
   "outputs": [
    {
     "name": "stdout",
     "output_type": "stream",
     "text": [
      "[ 1.09485776]\n",
      "[ 28.97777504]\n"
     ]
    },
    {
     "data": {
      "text/plain": [
       "<matplotlib.axes._subplots.AxesSubplot at 0x114f36f50>"
      ]
     },
     "execution_count": 126,
     "metadata": {},
     "output_type": "execute_result"
    },
    {
     "data": {
      "image/png": "[encoded data removed]",
      "text/plain": [
       "<matplotlib.figure.Figure at 0x114efe690>"
      ]
     },
     "metadata": {},
     "output_type": "display_data"
    }
   ],
   "source": [
    "def computeRefroV(zd, wavelength, site):\n",
    "    ref1 = palpy.refroVector(zd * np.pi / 180., site.height,\n",
    "                    site.meanTemperature,\n",
    "                    site.meanPressure,\n",
    "                    site.meanHumidity,\n",
    "                    wavelength/1000.,\n",
    "                    site.latitude,\n",
    "                    site.lapseRate,\n",
    "                    1.e-8) * 180.0 / np.pi * 3600.\n",
    "    return ref1\n",
    "\n",
    "zd = np.array([40.])\n",
    "wave1 = 625.\n",
    "ref1 = computeRefroV(zd, wave1, site)\n",
    "wave2 = 350.\n",
    "ref2 = computeRefroV(zd, wave2, site)\n",
    "print (ref2 - ref1)\n",
    "\n",
    "#angles = np.linspace(0,70,71)  * np.pi / 180.\n",
    "#off = np.array([computeRefroV(angles, wave1, site) for wave in waveleng])\n",
    "#print len(angles), len(waveleng), off.shape\n",
    "\n",
    "def getOffsets(wavelen, flux, zds, site):\n",
    "    off = np.array([computeRefroV(zds, wave, site) for wave in waveleng])\n",
    "    dg1 = off.T.dot(flux) / np.sum(flux)\n",
    "    return dg1\n",
    "    \n",
    "print getOffsets(waveleng, fluxg, np.array([zd1]) / np.pi * 180., site)\n",
    "\n",
    "angles = np.linspace(0,70,71)\n",
    "#for zd in angles:\n",
    "#    print zd, getOffset(waveleng, fluxg, zd, site)\n",
    "\n",
    "dg2 = getOffsets(waveleng, fluxg, angles, site)\n",
    "tmp_df = pd.DataFrame({'zd': angles, 'dg': dg2})\n",
    "tmp_df.plot(x='zd', y='dg')"
   ]
  },
  {
   "cell_type": "code",
   "execution_count": 127,
   "metadata": {
    "collapsed": false
   },
   "outputs": [
    {
     "data": {
      "text/plain": [
       "<matplotlib.text.Text at 0x11521ff90>"
      ]
     },
     "execution_count": 127,
     "metadata": {},
     "output_type": "execute_result"
    },
    {
     "data": {
      "image/png": "[encoded data removed]",
      "text/plain": [
       "<matplotlib.figure.Figure at 0x1152b0fd0>"
      ]
     },
     "metadata": {},
     "output_type": "display_data"
    }
   ],
   "source": [
    "def compute_dcr(SED, site, filters='ugrizy', angles=np.linspace(0,70,71), relative=None, **kwargs):\n",
    "    df = pd.DataFrame(pd.Series(angles)) #, index=pd.Series(angles))\n",
    "    for filter_ in filters:\n",
    "        wavelen, fnu = SED.resampleSED(SED.wavelen, SED.fnu, wavelen_match=bps[filter_].wavelen)\n",
    "        fnu[0] = 0. ## is nan for some reason?\n",
    "        flux = fnu * bps[filter_].phi\n",
    "\n",
    "        ##dg2 = np.array([getOffset(wavelen, flux, zd) for zd in angles])\n",
    "        dg2 = getOffsets(wavelen, flux, angles, site)\n",
    "        #tmp_df = pd.DataFrame({'zd': angles, 'dg': dg2})\n",
    "        df = pd.concat([df, pd.Series(dg2)], axis=1, ignore_index=True)\n",
    "\n",
    "    df.columns = np.insert(np.array(list(filters), dtype='S6'), 0, 'angle')\n",
    "    df = df.set_index('angle')\n",
    "    if relative is not None and np.any(df.columns.values == relative):\n",
    "        df2 = df.copy().sub(df[relative], axis=0)\n",
    "        return df2\n",
    "    return df\n",
    "\n",
    "angles = np.linspace(0,70,71)\n",
    "df = compute_dcr(star, site, 'ugrizy', angles)\n",
    "ax = df.plot(colormap=cm.rainbow)\n",
    "ax.set_ylabel('Total refraction (star), arcsec')"
   ]
  },
  {
   "cell_type": "code",
   "execution_count": 128,
   "metadata": {
    "collapsed": false
   },
   "outputs": [
    {
     "data": {
      "text/plain": [
       "<matplotlib.text.Text at 0x115341590>"
      ]
     },
     "execution_count": 128,
     "metadata": {},
     "output_type": "execute_result"
    },
    {
     "data": {
      "image/png": "[encoded data removed]",
      "text/plain": [
       "<matplotlib.figure.Figure at 0x114eeb190>"
      ]
     },
     "metadata": {},
     "output_type": "display_data"
    }
   ],
   "source": [
    "df2 = df.copy().sub(df['r'], axis=0)\n",
    "ax = df2.plot(colormap=cm.rainbow)\n",
    "ax.set_ylabel('Relative refraction (star), arcsec')"
   ]
  },
  {
   "cell_type": "code",
   "execution_count": 129,
   "metadata": {
    "collapsed": false
   },
   "outputs": [
    {
     "data": {
      "text/html": [
       "<span style=\"font-size:50%; line-height:120%\"><div>\n",
       "<table border=\"1\" class=\"dataframe\">\n",
       "  <thead>\n",
       "    <tr style=\"text-align: right;\">\n",
       "      <th></th>\n",
       "      <th>u</th>\n",
       "      <th>g</th>\n",
       "      <th>r</th>\n",
       "      <th>i</th>\n",
       "      <th>z</th>\n",
       "      <th>y</th>\n",
       "    </tr>\n",
       "    <tr>\n",
       "      <th>angle</th>\n",
       "      <th></th>\n",
       "      <th></th>\n",
       "      <th></th>\n",
       "      <th></th>\n",
       "      <th></th>\n",
       "      <th></th>\n",
       "    </tr>\n",
       "  </thead>\n",
       "  <tbody>\n",
       "    <tr>\n",
       "      <th>66</th>\n",
       "      <td>2.503557</td>\n",
       "      <td>0.879295</td>\n",
       "      <td>0</td>\n",
       "      <td>-0.422750</td>\n",
       "      <td>-0.644635</td>\n",
       "      <td>-0.769921</td>\n",
       "    </tr>\n",
       "    <tr>\n",
       "      <th>67</th>\n",
       "      <td>2.624468</td>\n",
       "      <td>0.921760</td>\n",
       "      <td>0</td>\n",
       "      <td>-0.443166</td>\n",
       "      <td>-0.675767</td>\n",
       "      <td>-0.807104</td>\n",
       "    </tr>\n",
       "    <tr>\n",
       "      <th>68</th>\n",
       "      <td>2.755513</td>\n",
       "      <td>0.967784</td>\n",
       "      <td>0</td>\n",
       "      <td>-0.465294</td>\n",
       "      <td>-0.709508</td>\n",
       "      <td>-0.847402</td>\n",
       "    </tr>\n",
       "    <tr>\n",
       "      <th>69</th>\n",
       "      <td>2.898098</td>\n",
       "      <td>1.017862</td>\n",
       "      <td>0</td>\n",
       "      <td>-0.489369</td>\n",
       "      <td>-0.746220</td>\n",
       "      <td>-0.891250</td>\n",
       "    </tr>\n",
       "    <tr>\n",
       "      <th>70</th>\n",
       "      <td>3.053900</td>\n",
       "      <td>1.072581</td>\n",
       "      <td>0</td>\n",
       "      <td>-0.515677</td>\n",
       "      <td>-0.786335</td>\n",
       "      <td>-0.939161</td>\n",
       "    </tr>\n",
       "  </tbody>\n",
       "</table>\n",
       "</div></span>"
      ],
      "text/plain": [
       "<__main__.sizeme instance at 0x114da8368>"
      ]
     },
     "execution_count": 129,
     "metadata": {},
     "output_type": "execute_result"
    }
   ],
   "source": [
    "sizeme(df2.tail())"
   ]
  },
  {
   "cell_type": "code",
   "execution_count": 130,
   "metadata": {
    "collapsed": false
   },
   "outputs": [
    {
     "data": {
      "text/html": [
       "<span style=\"font-size:50%; line-height:120%\"><div>\n",
       "<table border=\"1\" class=\"dataframe\">\n",
       "  <thead>\n",
       "    <tr style=\"text-align: right;\">\n",
       "      <th></th>\n",
       "      <th>u</th>\n",
       "      <th>g</th>\n",
       "      <th>r</th>\n",
       "      <th>i</th>\n",
       "      <th>z</th>\n",
       "      <th>y</th>\n",
       "    </tr>\n",
       "    <tr>\n",
       "      <th>angle</th>\n",
       "      <th></th>\n",
       "      <th></th>\n",
       "      <th></th>\n",
       "      <th></th>\n",
       "      <th></th>\n",
       "      <th></th>\n",
       "    </tr>\n",
       "  </thead>\n",
       "  <tbody>\n",
       "    <tr>\n",
       "      <th>66</th>\n",
       "      <td>-0.594071</td>\n",
       "      <td>-0.561685</td>\n",
       "      <td>-0.551468</td>\n",
       "      <td>-0.547930</td>\n",
       "      <td>-0.546314</td>\n",
       "      <td>-0.545460</td>\n",
       "    </tr>\n",
       "    <tr>\n",
       "      <th>67</th>\n",
       "      <td>-0.679850</td>\n",
       "      <td>-0.644911</td>\n",
       "      <td>-0.633668</td>\n",
       "      <td>-0.629704</td>\n",
       "      <td>-0.627876</td>\n",
       "      <td>-0.626905</td>\n",
       "    </tr>\n",
       "    <tr>\n",
       "      <th>68</th>\n",
       "      <td>-0.781960</td>\n",
       "      <td>-0.744095</td>\n",
       "      <td>-0.731655</td>\n",
       "      <td>-0.727188</td>\n",
       "      <td>-0.725109</td>\n",
       "      <td>-0.724000</td>\n",
       "    </tr>\n",
       "    <tr>\n",
       "      <th>69</th>\n",
       "      <td>-0.904408</td>\n",
       "      <td>-0.863163</td>\n",
       "      <td>-0.849315</td>\n",
       "      <td>-0.844250</td>\n",
       "      <td>-0.841871</td>\n",
       "      <td>-0.840596</td>\n",
       "    </tr>\n",
       "    <tr>\n",
       "      <th>70</th>\n",
       "      <td>-1.052434</td>\n",
       "      <td>-1.007248</td>\n",
       "      <td>-0.991729</td>\n",
       "      <td>-0.985946</td>\n",
       "      <td>-0.983206</td>\n",
       "      <td>-0.981730</td>\n",
       "    </tr>\n",
       "  </tbody>\n",
       "</table>\n",
       "</div></span>"
      ],
      "text/plain": [
       "<__main__.sizeme instance at 0x1158a3440>"
      ]
     },
     "execution_count": 130,
     "metadata": {},
     "output_type": "execute_result"
    }
   ],
   "source": [
    "import pickle\n",
    "df_chroma = pickle.load(open(\"save2.p\", \"rb\"))\n",
    "sizeme((df - df_chroma).tail())"
   ]
  },
  {
   "cell_type": "code",
   "execution_count": 131,
   "metadata": {
    "collapsed": false
   },
   "outputs": [
    {
     "data": {
      "text/plain": [
       "<matplotlib.text.Text at 0x1158a8c10>"
      ]
     },
     "execution_count": 131,
     "metadata": {},
     "output_type": "execute_result"
    },
    {
     "data": {
      "image/png": "[encoded data removed]",
      "text/plain": [
       "<matplotlib.figure.Figure at 0x115895490>"
      ]
     },
     "metadata": {},
     "output_type": "display_data"
    }
   ],
   "source": [
    "ax = (df - df_chroma).plot(colormap=cm.rainbow)\n",
    "ax.set_ylabel('Relative refraction error (star), arcsec')"
   ]
  },
  {
   "cell_type": "markdown",
   "metadata": {},
   "source": [
    "## OK, this could explain the 'issue' in Becker's W14 analyses --  \n",
    "looks like phoSim uses a different function to approximate DCR in the output images than the one `W14` used to predict it.\n",
    "\n",
    "So the question is - which DCR estimate function do we use? If we are estimating it from simulated images we obviously need to use the same function that generates it."
   ]
  },
  {
   "cell_type": "code",
   "execution_count": null,
   "metadata": {
    "collapsed": true
   },
   "outputs": [],
   "source": []
  }
 ],
 "metadata": {
  "kernelspec": {
   "display_name": "Python 2",
   "language": "python",
   "name": "python2"
  },
  "language_info": {
   "codemirror_mode": {
    "name": "ipython",
    "version": 2
   },
   "file_extension": ".py",
   "mimetype": "text/x-python",
   "name": "python",
   "nbconvert_exporter": "python",
   "pygments_lexer": "ipython2",
   "version": "2.7.10"
  }
 },
 "nbformat": 4,
 "nbformat_minor": 0
}
