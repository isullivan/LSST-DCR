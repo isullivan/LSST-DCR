{
 "cells": [
  {
   "cell_type": "markdown",
   "metadata": {},
   "source": [
    "## Time to figure out the SED classes for real. What they do, what they represent, whether $f_\\nu$ or $f_\\lambda$ is used, etc."
   ]
  },
  {
   "cell_type": "markdown",
   "metadata": {},
   "source": [
    "## AB magnitude System  \n",
    "\n",
    "This magnitude system is defined such that, when monochromatic flux $f_\\nu$ is measured in erg sec$^{-1}$ cm$^{-2}$ Hz$^{-1}$,  \n",
    "$m(AB) = -2.5 \\log(f_\\nu) - 48.60$  \n",
    "where the value of the constant is selected to define $m(AB)=V$ for a flat-spectrum source. In this system, an object with constant flux per unit frequency interval has zero color.\n",
    "It is helpful to bear in mind the identity\n",
    "\n",
    "$\\lambda * f_\\lambda = \\nu * f_\\nu$  \n",
    "so  \n",
    "$f_\\nu = f_\\lambda*(\\lambda/\\nu) = f_\\lambda*\\lambda^2/c$.  \n",
    "\n",
    "[References](https://www.astro.umd.edu/~ssm/ASTR620/mags.html): Oke, J.B. 1974, ApJS, 27, 21\n",
    "\n",
    "Recall $f_\\lambda$ is in units of erg cm$^{-2}$ s$^{-1}$ Å$^{-1}$   \n",
    "$f_\\nu$ is erg cm$^{-2}$ s$^{-1}$ Hz$^{-1}$.  \n",
    "\n",
    "Conversion: $f_\\nu = f_\\lambda * \\lambda^2 / c$.  \n",
    "Recall $\\nu \\lambda = c$."
   ]
  },
  {
   "cell_type": "markdown",
   "metadata": {},
   "source": [
    "## First the chroma SED class...  \n",
    "\n",
    "it takes an numpy.interp1d object to generate the $SED(\\lambda)$.\n",
    "\n",
    "```\n",
    "star_SEDname = \"delta450nm.ascii\"\n",
    "w,f = np.genfromtxt(star_SEDname).T\n",
    "ss = interp1d(w, f)\n",
    "SED = spec.SED(ss)\n",
    "```\n",
    "It assumes the `flux_type` is `'flambda'`, sets `wave_type` to `'nm'` (and `wave_factor` is `1.0`).  \n",
    "Sets `blue_limit` and `red_limit` to the ranges of `x` (i.e., ranges on $\\lambda$).  \n",
    "Sets `wave_list` to an `np.array` of the input spectrum's `x`s ($\\lambda$s).  \n",
    "\n",
    "Then it sets `_rest_photons = lambda w: (spec(np.array(w) * wave_factor) * w / (h*c))`, i.e.  \n",
    "rest_photons $= f_\\lambda \\lambda / \\hbar c$ when $x = \\lambda$, or...  \n",
    "rest_photons $= f_\\nu / \\nu \\hbar$ when $x = \\nu$.\n",
    "\n",
    "Code:\n",
    "```python\n",
    "   if flux_type == 'flambda':\n",
    "      # photons/nm = (erg/nm) * (photons/erg)\n",
    "      #            = spec(w) * 1/(h nu) = spec(w) * lambda / hc\n",
    "      self._rest_photons = lambda w: (spec(np.array(w) * wave_factor) * w / (h*c))\n",
    "   elif flux_type == 'fnu':\n",
    "      # photons/nm = (erg/Hz) * (photons/erg) * (Hz/nm)\n",
    "      #            = spec(w) * 1/(h nu) * |dnu/dlambda|\n",
    "      # [Use dnu/dlambda = d(c/lambda)/dlambda = -c/lambda^2 = -nu/lambda]\n",
    "      #            = spec(w) * 1/(h lambda)\n",
    "      self._rest_photons = lambda w: (spec(np.array(w) * wave_factor) / (w * h))\n",
    "```"
   ]
  },
  {
   "cell_type": "code",
   "execution_count": 7,
   "metadata": {
    "collapsed": false
   },
   "outputs": [
    {
     "name": "stdout",
     "output_type": "stream",
     "text": [
      "1.98644568327e-09\n"
     ]
    }
   ],
   "source": [
    "c = 2.99792458e17  # speed of light in nm/s\n",
    "h = 6.62606957e-27 # Planck's constant in erg seconds\n",
    "print c * h"
   ]
  },
  {
   "cell_type": "markdown",
   "metadata": {},
   "source": [
    "Chroma SED class seems to do all its work in flux units of photon density.  \n",
    "It has a `__call__(self, wave)` function which evaluates the SED as a function of wavelength and returns  \n",
    "`rest_photons(wave)` (see above). For example:\n",
    "```\n",
    "wave = np.arange(300.0, 1200.0, 1.0)\n",
    "photons = SED(wave)\n",
    "```"
   ]
  },
  {
   "cell_type": "markdown",
   "metadata": {
    "collapsed": true
   },
   "source": [
    "#### Using spec.Bandpass from chroma with spec.SED...\n",
    "\n",
    "We create a bandpass via:\n",
    "```\n",
    "fdata = spec.Bandpass(bpDir+'/filter_{}.dat'.format(filter_), red_limit=red_limit, blue_limit=blue_limit)\n",
    "```\n",
    "and inside the `Bandpass.__init__(tp)` (`tp` is throughput)...\n",
    "```\n",
    "w, t = np.genfromtxt(tp).T\n",
    "tp = interp1d(w, t)\n",
    "...\n",
    "self.func = lambda w: tp(np.array(w) * wave_factor)\n",
    "```\n",
    "It also has a `__call__(self, wave)` fucntion which returns throughput as a function of wavelength, setting it to zero outside of `red_limit` and `blue_limit`. So we call it:\n",
    "```\n",
    "throughput = fdata(fdata.wave_list)\n",
    "```\n",
    "Then we compute DCR via: \n",
    "```\n",
    "SED.calculateDCRMomentShifts(fdata, zenith_angle=angle * np.pi/180.0)\n",
    "```"
   ]
  },
  {
   "cell_type": "markdown",
   "metadata": {},
   "source": [
    "#### OK, how does chroma compute DCR? Let's look...  \n",
    "It's in the `spec.SED` class...  uses equation (1) from [Plazas and Bernstein (2012)](http://arxiv.org/abs/1204.1346)\n",
    "to get the 1st moment offset for zenith angle $z_a$, instrumental response function $F(\\lambda)$ and source spectrum $S(\\lambda)$:\n",
    "$$ \\overline{R}(z_a) = \\frac{\\int R(\\lambda,z_a) F(\\lambda) S(\\lambda) d\\lambda }{\\int F(\\lambda) S(\\lambda) d\\lambda } $$  \n",
    "\n",
    "Here's the code (where `self` is the SED):\n",
    "```python\n",
    "   flux = self.calculateFlux(bandpass)\n",
    "   x = np.union1d(bandpass.wave_list, self.wave_list)\n",
    "   x = x[(x <= bandpass.red_limit) & (x >= bandpass.blue_limit)]\n",
    "   R = dcr.get_refraction(x, zenith_angle, **kwargs)\n",
    "   photons = self(x)\n",
    "   throughput = bandpass(x)\n",
    "   Rbar = np.trapz(throughput * photons * R, x) / flux\n",
    "```\n",
    "the `spec.SED.calculateFlux(bandpass)` looks like this:\n",
    "```python\n",
    "   x = np.union1d(bandpass.wave_list, self.wave_list)\n",
    "   x = x[(x <= bandpass.red_limit) & (x >= bandpass.blue_limit)]\n",
    "   flux = np.trapz(bandpass(x) * self(x), x)\n",
    "```\n",
    "\n",
    "Note everything above is done in photons since it uses `self(x)`."
   ]
  },
  {
   "cell_type": "markdown",
   "metadata": {},
   "source": [
    "## OK, now how is it done in the ACB W13/S14 project code?\n",
    "\n",
    "Uses `lsst.sims.photUtils.Sed` and `Bandpass`...\n",
    "\n",
    "First, we do this:\n",
    "```python\n",
    "star.readSED_flambda(star_SEDname)\n",
    "star.flambdaTofnu()\n",
    "```\n",
    "Then,\n",
    "```python\n",
    "fluxg = fnug * bps['g'].phi\n",
    "dg1 = getOffset(waveleng, fluxg, zd1)\n",
    "```\n",
    "The getOffset function does this:\n",
    "```python\n",
    "def getOffset(wavelen, flux, zd):\n",
    "    photons = flux / wavelen   ## convert flux (still in units of fnu) to photons\n",
    "    off = refract(wavelen*1.e-3, zd * np.pi / 180.) * 180. / np.pi * 3600. # arcsec\n",
    "    return np.sum(off * photons) / np.sum(photons)\n",
    "```\n",
    "where `refract()` looks a lot like the function that computes $R$ in the chroma code. Note the original S14 `getOffset()` function looked like this:\n",
    "```python\n",
    "def getOffset(wavelen, flux, zd):\n",
    "    off = refract(wavelen*10**-3,  zd * np.pi / 180.) * 180. / np.pi * 3600. # arcsec\n",
    "    return np.sum(off * flux) / np.sum(flux)\n",
    "```"
   ]
  },
  {
   "cell_type": "markdown",
   "metadata": {},
   "source": [
    "### Let's compare the $R$ from `chroma` and the output of `refract()` for a given wavelength and $z_d$.  \n",
    "\n",
    "They take the same defaults for temperature and pressure."
   ]
  },
  {
   "cell_type": "code",
   "execution_count": 18,
   "metadata": {
    "collapsed": false
   },
   "outputs": [
    {
     "name": "stdout",
     "output_type": "stream",
     "text": [
      "69.3276315516 293.15 1.06657894695\n",
      "32.5603522147\n",
      "32.5603522147\n"
     ]
    }
   ],
   "source": [
    "import numpy as np\n",
    "import dcr\n",
    "\n",
    "def refract(wavelength, zd, P=520.0, T=20.0, f=8.0):\n",
    "    sig_sqrd = 1.0 / (wavelength**2.0)\n",
    "    xnm1  = 1.e-6 * ( 64.328 + 29498.1 / (146.0 - sig_sqrd) + 255.4 / (41.0 - sig_sqrd) )\n",
    "    xnm1 *= P * (1.0 + (1.049 - 0.0157 * T) * 1.e-6 * P) / (720.883 * (1.0 + 0.003661 * T))\n",
    "    xnm1 -= 1.e-6 * f * (0.0624 - 0.000680 * sig_sqrd) / (1.0 + 0.003661 * T)\n",
    "    xn    = xnm1 + 1.0\n",
    "    r0    = (xn**2.0 - 1.0) / (2.0 * xn**2.0)\n",
    "    of    = r0 * np.tan(zd) # radians\n",
    "    return of\n",
    "\n",
    "## From S14 code:\n",
    "P = 520.0\n",
    "T = 20.0\n",
    "f = 8.0\n",
    "\n",
    "## From chroma code:\n",
    "pressure = 69.328\n",
    "temperature = 293.15\n",
    "H2O_pressure = 1.067\n",
    "#P = pressure * 7.50061683 # kPa -> mmHg\n",
    "#T = temperature - 273.15 # K -> C\n",
    "#W = H2O_pressure * 7.50061683 # kPa -> mmHg\n",
    "#print P, T, W\n",
    "\n",
    "## Update chroma inputs to make exactly equal to S14 inputs:\n",
    "pressure = P / 7.50061683\n",
    "temperature = T + 273.15\n",
    "H2O_pressure = f / 7.50061683\n",
    "print pressure, temperature, H2O_pressure\n",
    "\n",
    "print refract(450*1.e-3, 40. * np.pi/180.0) * 180. / np.pi * 3600.\n",
    "print dcr.get_refraction(450, 40. * np.pi/180.0, pressure=pressure, temperature=temperature, H2O_pressure=H2O_pressure) * 180. / np.pi * 3600."
   ]
  },
  {
   "cell_type": "markdown",
   "metadata": {},
   "source": [
    "#### OK, they're the same. \n",
    "\n",
    "So now let's look into differences before and after integration over the SED * bandpass...  \n",
    "First look at `chroma`'s way of doing things:  \n",
    "First, set things up...\n"
   ]
  },
  {
   "cell_type": "code",
   "execution_count": 19,
   "metadata": {
    "collapsed": true
   },
   "outputs": [],
   "source": [
    "import os\n",
    "\n",
    "import matplotlib\n",
    "import matplotlib.pyplot as plt\n",
    "%matplotlib inline\n",
    "\n",
    "matplotlib.style.use('ggplot')\n",
    "\n",
    "## see http://matplotlib.org/users/colormaps.html for colormaps\n",
    "from matplotlib import cm\n",
    "\n",
    "import pandas as pd\n",
    "\n",
    "## see: https://stackoverflow.com/questions/19536817/manipulate-html-module-font-size-in-ipython-notebook\n",
    "class sizeme():\n",
    "    \"\"\" Class to change html fontsize of object's representation\"\"\"\n",
    "    def __init__(self,ob, size=50, height=120):\n",
    "        self.ob = ob\n",
    "        self.size = size\n",
    "        self.height = height\n",
    "    def _repr_html_(self):\n",
    "        repl_tuple = (self.size, self.height, self.ob._repr_html_())\n",
    "        return u'<span style=\"font-size:{0}%; line-height:{1}%\">{2}</span>'.format(*repl_tuple)"
   ]
  },
  {
   "cell_type": "code",
   "execution_count": 57,
   "metadata": {
    "collapsed": false
   },
   "outputs": [
    {
     "name": "stdout",
     "output_type": "stream",
     "text": [
      "1.12043330952e+12\n",
      "1.12043330952e+12\n"
     ]
    },
    {
     "data": {
      "text/plain": [
       "<matplotlib.axes._subplots.AxesSubplot at 0x10d4ae810>"
      ]
     },
     "execution_count": 57,
     "metadata": {},
     "output_type": "execute_result"
    },
    {
     "data": {
      "image/png": "[encoded data removed]",
      "text/plain": [
       "<matplotlib.figure.Figure at 0x10df92550>"
      ]
     },
     "metadata": {},
     "output_type": "display_data"
    }
   ],
   "source": [
    "import spec\n",
    "\n",
    "bpDir = os.environ['LSST_THROUGHPUTS_DEFAULT']\n",
    "catDir = os.environ['SIMS_SED_LIBRARY_DIR']\n",
    "\n",
    "SEDname = \"delta450nm.ascii\"\n",
    "SED = spec.SED(SEDname) ##.atRedshift(0.5)\n",
    "\n",
    "import lsst.sims.photUtils.Bandpass as Bandpass\n",
    "import lsst.sims.photUtils.BandpassDict as bpDict\n",
    "bps = bpDict.loadTotalBandpassesFromFiles()\n",
    "##bps, temp = bpDict.loadBandpassesFromFiles()\n",
    "\n",
    "## Truncate the bandpasses outside their canonical wavelength range\n",
    "for bp in bps.keys():\n",
    "    bpobj = bps[bp]\n",
    "    bpobj.phi[bpobj.phi <= 1.e-4] = 0.\n",
    "    bpobj.phi[(bpobj.wavelen > bpobj.wavelen_max)] = 0.\n",
    "    bpobj.phi[(bpobj.wavelen < bpobj.wavelen_min)] = 0.\n",
    "\n",
    "sbps = {}\n",
    "for i, filter_ in enumerate('ugrizy'):\n",
    "    blue_limit = bps[filter_].wavelen[bps[filter_].phi >= 1e-4].min()\n",
    "    red_limit = bps[filter_].wavelen[bps[filter_].phi >= 1e-4].max()\n",
    "    #print red_limit, blue_limit\n",
    "    fdata = spec.Bandpass(bpDir+'/total_{}.dat'.format(filter_), red_limit=red_limit, blue_limit=blue_limit)\n",
    "    sbps[filter_] = fdata\n",
    "\n",
    "angles = np.linspace(0,70,71)\n",
    "angles = np.array([70.])  * np.pi/180.0   ## to radians\n",
    "filter_ = 'g'\n",
    "\n",
    "bandpass = sbps[filter_]\n",
    "\n",
    "flux1 = SED.calculateFlux(bandpass)\n",
    "print flux1\n",
    "\n",
    "x = np.union1d(bandpass.wave_list, SED.wave_list)\n",
    "x = x[(x <= bandpass.red_limit) & (x >= bandpass.blue_limit)]\n",
    "flux1a = np.trapz(bandpass(x) * SED(x), x)\n",
    "print flux1a\n",
    "\n",
    "pd.DataFrame({'x': x, 'bandpass': bandpass(x)}).plot(x='x', y='bandpass')\n",
    "#pd.DataFrame({'x': x, 'SED': SED(x)}).plot(x='x', y='SED')"
   ]
  },
  {
   "cell_type": "markdown",
   "metadata": {},
   "source": [
    "#### Compare to flux calc. from S14..."
   ]
  },
  {
   "cell_type": "code",
   "execution_count": 59,
   "metadata": {
    "collapsed": false
   },
   "outputs": [
    {
     "name": "stdout",
     "output_type": "stream",
     "text": [
      "2.18966668524e+13\n"
     ]
    },
    {
     "data": {
      "text/plain": [
       "<matplotlib.axes._subplots.AxesSubplot at 0x10dd6d050>"
      ]
     },
     "execution_count": 59,
     "metadata": {},
     "output_type": "execute_result"
    },
    {
     "data": {
      "image/png": "[encoded data removed]",
      "text/plain": [
       "<matplotlib.figure.Figure at 0x10dccbb90>"
      ]
     },
     "metadata": {},
     "output_type": "display_data"
    }
   ],
   "source": [
    "import lsst.sims.photUtils.Sed as Sed\n",
    "\n",
    "star = Sed()\n",
    "star.readSED_flambda(SEDname)\n",
    "star.flambdaTofnu()\n",
    "bp = bps['g']\n",
    "#print bp.bandpassname\n",
    "\n",
    "waveleng, fnug = star.resampleSED(star.wavelen, star.fnu, wavelen_match=bps[filter_].wavelen)\n",
    "fluxg = fnug * bps['g'].phi\n",
    "\n",
    "flux2 = np.sum(waveleng * fluxg)\n",
    "print flux2\n",
    "\n",
    "pd.DataFrame({'x': bp.wavelen, 'bandpass': bp.sb}).plot(x='x', y='bandpass')\n"
   ]
  },
  {
   "cell_type": "code",
   "execution_count": null,
   "metadata": {
    "collapsed": true
   },
   "outputs": [],
   "source": []
  }
 ],
 "metadata": {
  "kernelspec": {
   "display_name": "Python 2",
   "language": "python",
   "name": "python2"
  },
  "language_info": {
   "codemirror_mode": {
    "name": "ipython",
    "version": 2
   },
   "file_extension": ".py",
   "mimetype": "text/x-python",
   "name": "python",
   "nbconvert_exporter": "python",
   "pygments_lexer": "ipython2",
   "version": "2.7.10"
  }
 },
 "nbformat": 4,
 "nbformat_minor": 0
}
