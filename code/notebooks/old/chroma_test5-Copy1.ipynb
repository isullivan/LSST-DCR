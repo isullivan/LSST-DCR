{
 "cells": [
  {
   "cell_type": "markdown",
   "metadata": {},
   "source": [
    "### THIS IS A NEW TEST - make a SED with a flux signal between 650-600nm only (zero elsewhere)"
   ]
  },
  {
   "cell_type": "markdown",
   "metadata": {},
   "source": [
    "Try to compute DCR for a given SED.\n",
    "\n",
    "Use a SED from the sims package. Let's do this full-out from SED library as in ACB's S14DCR code.\n",
    "\n",
    "First need to do:\n",
    "\n",
    "```\n",
    "setup -t b1740 sims_sed_library\n",
    "setup -t b1740 throughputs\n",
    "setup -t b1740 sims_photUtils\n",
    "```"
   ]
  },
  {
   "cell_type": "code",
   "execution_count": 1,
   "metadata": {
    "collapsed": false
   },
   "outputs": [],
   "source": [
    "import os\n",
    "import numpy as np\n",
    "\n",
    "#import dcr\n",
    "#import spec    ## dont forget to add $HOME/GIT_REPOS/chroma/chroma to PYTHONPATH before starting ipython notebook\n",
    "#import plot\n",
    "#import utils\n",
    "\n",
    "#import _mypath\n",
    "#import chroma\n",
    "\n",
    "#bpDir = '/Users/dreiss/GIT_REPOS/chroma/data/filters/'\n",
    "#bpDir = '/Users/dreiss/lsstsw/stack/DarwinX86/throughputs/master-ga98b3deed1/baseline/'\n",
    "bpDir = os.environ['LSST_THROUGHPUTS_DEFAULT']\n",
    "catDir = os.environ['SIMS_SED_LIBRARY_DIR']\n",
    "\n",
    "import matplotlib\n",
    "import matplotlib.pyplot as plt\n",
    "%matplotlib inline\n",
    "\n",
    "matplotlib.style.use('ggplot')\n",
    "\n",
    "## see http://matplotlib.org/users/colormaps.html for colormaps\n",
    "from matplotlib import cm"
   ]
  },
  {
   "cell_type": "code",
   "execution_count": 2,
   "metadata": {
    "collapsed": true
   },
   "outputs": [],
   "source": [
    "import pandas as pd\n",
    "\n",
    "## see: https://stackoverflow.com/questions/19536817/manipulate-html-module-font-size-in-ipython-notebook\n",
    "class sizeme():\n",
    "    \"\"\" Class to change html fontsize of object's representation\"\"\"\n",
    "    def __init__(self,ob, size=50, height=120):\n",
    "        self.ob = ob\n",
    "        self.size = size\n",
    "        self.height = height\n",
    "    def _repr_html_(self):\n",
    "        repl_tuple = (self.size, self.height, self.ob._repr_html_())\n",
    "        return u'<span style=\"font-size:{0}%; line-height:{1}%\">{2}</span>'.format(*repl_tuple)"
   ]
  },
  {
   "cell_type": "code",
   "execution_count": 3,
   "metadata": {
    "collapsed": false
   },
   "outputs": [
    {
     "name": "stderr",
     "output_type": "stream",
     "text": [
      "/Users/dreiss/miniconda/lib/python2.7/site-packages/IPython/kernel/__init__.py:13: ShimWarning: The `IPython.kernel` package has been deprecated. You should import from ipykernel or jupyter_client instead.\n",
      "  \"You should import from ipykernel or jupyter_client instead.\", ShimWarning)\n"
     ]
    }
   ],
   "source": [
    "import lsst.sims.photUtils.Sed as Sed\n",
    "import lsst.sims.photUtils.Bandpass as Bandpass\n",
    "import lsst.sims.photUtils.BandpassDict as bpDict"
   ]
  },
  {
   "cell_type": "code",
   "execution_count": 88,
   "metadata": {
    "collapsed": false
   },
   "outputs": [
    {
     "data": {
      "text/plain": [
       "[<matplotlib.lines.Line2D at 0x114973d50>]"
      ]
     },
     "execution_count": 88,
     "metadata": {},
     "output_type": "execute_result"
    },
    {
     "data": {
      "image/png": "[encoded data removed]",
      "text/plain": [
       "<matplotlib.figure.Figure at 0x114862990>"
      ]
     },
     "metadata": {},
     "output_type": "display_data"
    }
   ],
   "source": [
    "contLevel  = 0.01\n",
    "dcrLevel   = 5e-3\n",
    "sedName    = \"km15_5250.fits_g05_5470.gz\"\n",
    "airmass1   = 1.25                                                                                                                                       \n",
    "dairmasses = np.arange(-0.25, 0.26, 0.05)                                                                                                               \n",
    "dthetas    = np.arange(0, 181, 5)\n",
    "zd1        = np.arccos(1./airmass1) * 180/np.pi\n",
    "\n",
    "# Extracted from Winter2014 DCR3.py\n",
    "def getOffset(wavelen, flux, zd):\n",
    "    photons = flux #/ wavelen   ## convert flux (still in units of fnu) to photons\n",
    "    off = refract(wavelen*1.e-3, zd * np.pi / 180.) * 180. / np.pi * 3600. # arcsec\n",
    "    return np.sum(off * photons) / np.sum(photons)\n",
    "    ## Try using integration instead (as in chroma):\n",
    "    ##return np.trapz(off * photons, wavelen) #/ flux\n",
    "\n",
    "def refract(wavelength, zd, P=520.0, T=20.0, f=8.0):\n",
    "    sig_sqrd = 1.0 / (wavelength**2.0)\n",
    "    xnm1  = 1.e-6 * ( 64.328 + 29498.1 / (146.0 - sig_sqrd) + 255.4 / (41.0 - sig_sqrd) )\n",
    "    xnm1 *= P * (1.0 + (1.049 - 0.0157 * T) * 1.e-6 * P) / (720.883 * (1.0 + 0.003661 * T))\n",
    "    xnm1 -= 1.e-6 * f * (0.0624 - 0.000680 * sig_sqrd) / (1.0 + 0.003661 * T)\n",
    "    xn    = xnm1 + 1.0\n",
    "    r0    = (xn**2.0 - 1.0) / (2.0 * xn**2.0)\n",
    "    of    = r0 * np.tan(zd) # radians\n",
    "    return of\n",
    "\n",
    "star_SEDname = \"delta450nm.ascii\"\n",
    "star = Sed()\n",
    "#star.readSED_flambda(os.path.join(catDir, \"starSED/%s/%s%s\" % ('kurucz', star_SEDname, '')))\n",
    "star.readSED_flambda(star_SEDname)\n",
    "star.flambdaTofnu()\n",
    "plt.plot(star.wavelen, star.flambda)\n",
    "#nphoton = star.fnu / star.wavelen\n",
    "#plt.plot(star.wavelen, nphoton)"
   ]
  },
  {
   "cell_type": "code",
   "execution_count": 89,
   "metadata": {
    "collapsed": false
   },
   "outputs": [
    {
     "data": {
      "text/plain": [
       "[<matplotlib.lines.Line2D at 0x114b56cd0>]"
      ]
     },
     "execution_count": 89,
     "metadata": {},
     "output_type": "execute_result"
    },
    {
     "data": {
      "image/png": "[encoded data removed]",
      "text/plain": [
       "<matplotlib.figure.Figure at 0x1143225d0>"
      ]
     },
     "metadata": {},
     "output_type": "display_data"
    }
   ],
   "source": [
    "bps = bpDict.loadTotalBandpassesFromFiles()\n",
    "for bp in bps.keys():\n",
    "    bpobj = bps[bp]\n",
    "    bpobj.phi[bpobj.phi <= 1.e-4] = 0.\n",
    "    bpobj.phi[(bpobj.wavelen > bpobj.wavelen_max)] = 0.\n",
    "    bpobj.phi[(bpobj.wavelen < bpobj.wavelen_min)] = 0.\n",
    "    \n",
    "waveleng, fnug = star.resampleSED(star.wavelen, star.fnu, wavelen_match=bps['g'].wavelen)\n",
    "nphotong = fnug / waveleng\n",
    "plt.plot(waveleng, nphotong)"
   ]
  },
  {
   "cell_type": "code",
   "execution_count": 90,
   "metadata": {
    "collapsed": false
   },
   "outputs": [
    {
     "name": "stdout",
     "output_type": "stream",
     "text": [
      "29.0840011976\n",
      "(71, 37)\n"
     ]
    },
    {
     "data": {
      "text/plain": [
       "<matplotlib.axes._subplots.AxesSubplot at 0x114856c90>"
      ]
     },
     "execution_count": 90,
     "metadata": {},
     "output_type": "execute_result"
    },
    {
     "data": {
      "image/png": "[encoded data removed]",
      "text/plain": [
       "<matplotlib.figure.Figure at 0x114bbcc90>"
      ]
     },
     "metadata": {},
     "output_type": "display_data"
    }
   ],
   "source": [
    "##fluxg = nphotong * bps['g'].phi\n",
    "fluxg = fnug * bps['g'].phi\n",
    "dg1 = getOffset(waveleng, fluxg, zd1)\n",
    "print dg1\n",
    "\n",
    "zd2 = np.arccos(1./(airmass1 + dairmasses)) * 180./np.pi\n",
    "angles = np.linspace(0,70,71)\n",
    "dg2 = np.array([getOffset(waveleng, fluxg, zd) for zd in angles])   ## in zd2])\n",
    "#print zd2, dg2\n",
    "tmp_df = pd.DataFrame({'zd': angles, 'dg': dg2})\n",
    "\n",
    "## this line iterates over parallactic angles to get offsets... (from ACB writeup)\n",
    "Mg = np.sqrt(dg1**2 + dg2**2 - 2 * np.outer(dg1 * dg2, np.cos(dthetas * np.pi / 180.)).T).T\n",
    "print Mg.shape   ## dairmasses x dthetas\n",
    "\n",
    "sizeme(tmp_df)\n",
    "tmp_df.plot(x='zd', y='dg')"
   ]
  },
  {
   "cell_type": "code",
   "execution_count": 91,
   "metadata": {
    "collapsed": false
   },
   "outputs": [
    {
     "data": {
      "text/plain": [
       "<matplotlib.text.Text at 0x114f15950>"
      ]
     },
     "execution_count": 91,
     "metadata": {},
     "output_type": "execute_result"
    },
    {
     "data": {
      "image/png": "[encoded data removed]",
      "text/plain": [
       "<matplotlib.figure.Figure at 0x114ed1690>"
      ]
     },
     "metadata": {},
     "output_type": "display_data"
    }
   ],
   "source": [
    "bps = bpDict.loadTotalBandpassesFromFiles()\n",
    "for bp in bps.keys():\n",
    "    bpobj = bps[bp]\n",
    "    bpobj.phi[bpobj.phi <= 1.e-4] = 0.\n",
    "    bpobj.phi[(bpobj.wavelen > bpobj.wavelen_max)] = 0.\n",
    "    bpobj.phi[(bpobj.wavelen < bpobj.wavelen_min)] = 0.\n",
    "    \n",
    "angles = np.linspace(0,70,71)\n",
    "df = pd.DataFrame(pd.Series(angles)) #, index=pd.Series(angles))\n",
    "for bp in bps.keys():\n",
    "    fluxg = fnug * bps[bp].phi\n",
    "    dg1 = getOffset(waveleng, fluxg, zd1)\n",
    "\n",
    "    dg2 = np.array([getOffset(waveleng, fluxg, zd) for zd in angles])\n",
    "    #tmp_df = pd.DataFrame({'zd': angles, 'dg': dg2})\n",
    "    df = pd.concat([df, pd.Series(dg2)], axis=1, ignore_index=True)\n",
    "\n",
    "df.columns = np.insert(np.array(bps.keys(), dtype='S6'), 0, 'angle')\n",
    "df = df.set_index('angle')\n",
    "ax = df.plot(colormap=cm.rainbow)\n",
    "ax.set_ylabel('Total refraction (star), arcsec')\n",
    "#sizeme(df)"
   ]
  },
  {
   "cell_type": "code",
   "execution_count": 92,
   "metadata": {
    "collapsed": false
   },
   "outputs": [
    {
     "data": {
      "text/html": [
       "<span style=\"font-size:50%; line-height:120%\"><div>\n",
       "<table border=\"1\" class=\"dataframe\">\n",
       "  <thead>\n",
       "    <tr style=\"text-align: right;\">\n",
       "      <th></th>\n",
       "      <th>u</th>\n",
       "      <th>g</th>\n",
       "      <th>r</th>\n",
       "      <th>i</th>\n",
       "      <th>z</th>\n",
       "      <th>y</th>\n",
       "    </tr>\n",
       "    <tr>\n",
       "      <th>angle</th>\n",
       "      <th></th>\n",
       "      <th></th>\n",
       "      <th></th>\n",
       "      <th></th>\n",
       "      <th></th>\n",
       "      <th></th>\n",
       "    </tr>\n",
       "  </thead>\n",
       "  <tbody>\n",
       "    <tr>\n",
       "      <th>66</th>\n",
       "      <td>NaN</td>\n",
       "      <td>87.098315</td>\n",
       "      <td>NaN</td>\n",
       "      <td>NaN</td>\n",
       "      <td>NaN</td>\n",
       "      <td>NaN</td>\n",
       "    </tr>\n",
       "    <tr>\n",
       "      <th>67</th>\n",
       "      <td>NaN</td>\n",
       "      <td>91.356817</td>\n",
       "      <td>NaN</td>\n",
       "      <td>NaN</td>\n",
       "      <td>NaN</td>\n",
       "      <td>NaN</td>\n",
       "    </tr>\n",
       "    <tr>\n",
       "      <th>68</th>\n",
       "      <td>NaN</td>\n",
       "      <td>95.980572</td>\n",
       "      <td>NaN</td>\n",
       "      <td>NaN</td>\n",
       "      <td>NaN</td>\n",
       "      <td>NaN</td>\n",
       "    </tr>\n",
       "    <tr>\n",
       "      <th>69</th>\n",
       "      <td>NaN</td>\n",
       "      <td>101.021885</td>\n",
       "      <td>NaN</td>\n",
       "      <td>NaN</td>\n",
       "      <td>NaN</td>\n",
       "      <td>NaN</td>\n",
       "    </tr>\n",
       "    <tr>\n",
       "      <th>70</th>\n",
       "      <td>NaN</td>\n",
       "      <td>106.543515</td>\n",
       "      <td>NaN</td>\n",
       "      <td>NaN</td>\n",
       "      <td>NaN</td>\n",
       "      <td>NaN</td>\n",
       "    </tr>\n",
       "  </tbody>\n",
       "</table>\n",
       "</div></span>"
      ],
      "text/plain": [
       "<__main__.sizeme instance at 0x114b5dd40>"
      ]
     },
     "execution_count": 92,
     "metadata": {},
     "output_type": "execute_result"
    }
   ],
   "source": [
    "sizeme(df.tail())"
   ]
  },
  {
   "cell_type": "markdown",
   "metadata": {
    "collapsed": true
   },
   "source": [
    "OK, this is a lot more similar to ACB's numbers. So there must be something related to the spectral window."
   ]
  },
  {
   "cell_type": "markdown",
   "metadata": {
    "collapsed": true
   },
   "source": [
    "Load results from chroma from chroma_test4-copy"
   ]
  },
  {
   "cell_type": "code",
   "execution_count": 93,
   "metadata": {
    "collapsed": false
   },
   "outputs": [
    {
     "data": {
      "text/html": [
       "<span style=\"font-size:50%; line-height:120%\"><div>\n",
       "<table border=\"1\" class=\"dataframe\">\n",
       "  <thead>\n",
       "    <tr style=\"text-align: right;\">\n",
       "      <th></th>\n",
       "      <th>u</th>\n",
       "      <th>g</th>\n",
       "      <th>r</th>\n",
       "      <th>i</th>\n",
       "      <th>z</th>\n",
       "      <th>y</th>\n",
       "    </tr>\n",
       "    <tr>\n",
       "      <th>angle</th>\n",
       "      <th></th>\n",
       "      <th></th>\n",
       "      <th></th>\n",
       "      <th></th>\n",
       "      <th></th>\n",
       "      <th></th>\n",
       "    </tr>\n",
       "  </thead>\n",
       "  <tbody>\n",
       "    <tr>\n",
       "      <th>66</th>\n",
       "      <td>NaN</td>\n",
       "      <td>8.201653e-10</td>\n",
       "      <td>NaN</td>\n",
       "      <td>NaN</td>\n",
       "      <td>NaN</td>\n",
       "      <td>NaN</td>\n",
       "    </tr>\n",
       "    <tr>\n",
       "      <th>67</th>\n",
       "      <td>NaN</td>\n",
       "      <td>8.602825e-10</td>\n",
       "      <td>NaN</td>\n",
       "      <td>NaN</td>\n",
       "      <td>NaN</td>\n",
       "      <td>NaN</td>\n",
       "    </tr>\n",
       "    <tr>\n",
       "      <th>68</th>\n",
       "      <td>NaN</td>\n",
       "      <td>9.038246e-10</td>\n",
       "      <td>NaN</td>\n",
       "      <td>NaN</td>\n",
       "      <td>NaN</td>\n",
       "      <td>NaN</td>\n",
       "    </tr>\n",
       "    <tr>\n",
       "      <th>69</th>\n",
       "      <td>NaN</td>\n",
       "      <td>9.512604e-10</td>\n",
       "      <td>NaN</td>\n",
       "      <td>NaN</td>\n",
       "      <td>NaN</td>\n",
       "      <td>NaN</td>\n",
       "    </tr>\n",
       "    <tr>\n",
       "      <th>70</th>\n",
       "      <td>NaN</td>\n",
       "      <td>1.003244e-09</td>\n",
       "      <td>NaN</td>\n",
       "      <td>NaN</td>\n",
       "      <td>NaN</td>\n",
       "      <td>NaN</td>\n",
       "    </tr>\n",
       "  </tbody>\n",
       "</table>\n",
       "</div></span>"
      ],
      "text/plain": [
       "<__main__.sizeme instance at 0x11582dab8>"
      ]
     },
     "execution_count": 93,
     "metadata": {},
     "output_type": "execute_result"
    }
   ],
   "source": [
    "import pickle\n",
    "df_chroma = pickle.load(open(\"save.p\", \"rb\"))\n",
    "sizeme((df - df_chroma).tail())"
   ]
  },
  {
   "cell_type": "markdown",
   "metadata": {},
   "source": [
    "### Now they are much closer (within numerical precision?) ... but perhaps not identical, as it varies with angle."
   ]
  },
  {
   "cell_type": "code",
   "execution_count": 95,
   "metadata": {
    "collapsed": false
   },
   "outputs": [
    {
     "data": {
      "text/plain": [
       "<matplotlib.text.Text at 0x11587b8d0>"
      ]
     },
     "execution_count": 95,
     "metadata": {},
     "output_type": "execute_result"
    },
    {
     "data": {
      "image/png": "[encoded data removed]",
      "text/plain": [
       "<matplotlib.figure.Figure at 0x1159d0d10>"
      ]
     },
     "metadata": {},
     "output_type": "display_data"
    }
   ],
   "source": [
    "ax = (df - df_chroma).plot(colormap=cm.rainbow)\n",
    "ax.set_ylabel('DCR relative difference')"
   ]
  },
  {
   "cell_type": "code",
   "execution_count": null,
   "metadata": {
    "collapsed": true
   },
   "outputs": [],
   "source": []
  }
 ],
 "metadata": {
  "kernelspec": {
   "display_name": "Python 2",
   "language": "python",
   "name": "python2"
  },
  "language_info": {
   "codemirror_mode": {
    "name": "ipython",
    "version": 2
   },
   "file_extension": ".py",
   "mimetype": "text/x-python",
   "name": "python",
   "nbconvert_exporter": "python",
   "pygments_lexer": "ipython2",
   "version": "2.7.10"
  }
 },
 "nbformat": 4,
 "nbformat_minor": 0
}
