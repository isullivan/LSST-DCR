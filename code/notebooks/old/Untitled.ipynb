{
 "cells": [
  {
   "cell_type": "code",
   "execution_count": 5,
   "metadata": {
    "collapsed": true
   },
   "outputs": [],
   "source": [
    "import os\n",
    "import numpy as np\n",
    "\n",
    "#import dcr\n",
    "#import spec    ## dont forget to add $HOME/GIT_REPOS/chroma/chroma to PYTHONPATH before starting ipython notebook\n",
    "#import plot\n",
    "#import utils\n",
    "\n",
    "#import _mypath\n",
    "#import chroma\n",
    "\n",
    "#bpDir = '/Users/dreiss/GIT_REPOS/chroma/data/filters/'\n",
    "#bpDir = '/Users/dreiss/lsstsw/stack/DarwinX86/throughputs/master-ga98b3deed1/baseline/'\n",
    "bpDir = os.environ['LSST_THROUGHPUTS_DEFAULT']\n",
    "catDir = os.environ['SIMS_SED_LIBRARY_DIR']\n",
    "\n",
    "import matplotlib\n",
    "import matplotlib.pyplot as plt\n",
    "%matplotlib inline\n",
    "\n",
    "matplotlib.style.use('ggplot')\n",
    "\n",
    "## see http://matplotlib.org/users/colormaps.html for colormaps\n",
    "from matplotlib import cm"
   ]
  },
  {
   "cell_type": "code",
   "execution_count": 6,
   "metadata": {
    "collapsed": true
   },
   "outputs": [],
   "source": [
    "import pandas as pd\n",
    "\n",
    "## see: https://stackoverflow.com/questions/19536817/manipulate-html-module-font-size-in-ipython-notebook\n",
    "class sizeme():\n",
    "    \"\"\" Class to change html fontsize of object's representation\"\"\"\n",
    "    def __init__(self,ob, size=50, height=120):\n",
    "        self.ob = ob\n",
    "        self.size = size\n",
    "        self.height = height\n",
    "    def _repr_html_(self):\n",
    "        repl_tuple = (self.size, self.height, self.ob._repr_html_())\n",
    "        return u'<span style=\"font-size:{0}%; line-height:{1}%\">{2}</span>'.format(*repl_tuple)"
   ]
  },
  {
   "cell_type": "code",
   "execution_count": 7,
   "metadata": {
    "collapsed": false
   },
   "outputs": [
    {
     "name": "stderr",
     "output_type": "stream",
     "text": [
      "/Users/dreiss/miniconda/lib/python2.7/site-packages/IPython/kernel/__init__.py:13: ShimWarning: The `IPython.kernel` package has been deprecated. You should import from ipykernel or jupyter_client instead.\n",
      "  \"You should import from ipykernel or jupyter_client instead.\", ShimWarning)\n"
     ]
    }
   ],
   "source": [
    "import lsst.sims.photUtils.Sed as Sed\n",
    "import lsst.sims.photUtils.Bandpass as Bandpass\n",
    "import lsst.sims.photUtils.BandpassDict as bpDict"
   ]
  },
  {
   "cell_type": "code",
   "execution_count": 8,
   "metadata": {
    "collapsed": false
   },
   "outputs": [
    {
     "data": {
      "text/plain": [
       "[<matplotlib.lines.Line2D at 0x10c0b6a50>]"
      ]
     },
     "execution_count": 8,
     "metadata": {},
     "output_type": "execute_result"
    },
    {
     "data": {
      "image/png": "[encoded data removed]",
      "text/plain": [
       "<matplotlib.figure.Figure at 0x10c037550>"
      ]
     },
     "metadata": {},
     "output_type": "display_data"
    }
   ],
   "source": [
    "contLevel  = 0.01\n",
    "dcrLevel   = 5e-3\n",
    "sedName    = \"km15_5250.fits_g05_5470.gz\"\n",
    "airmass1   = 1.25                                                                                                                                       \n",
    "dairmasses = np.arange(-0.25, 0.26, 0.05)                                                                                                               \n",
    "dthetas    = np.arange(0, 181, 5)\n",
    "zd1        = np.arccos(1./airmass1) * 180/np.pi\n",
    "\n",
    "# Extracted from Winter2014 DCR3.py\n",
    "def getOffset(wavelen, flux, zd):\n",
    "    photons = flux / wavelen   ## convert flux (still in units of fnu) to photons\n",
    "    off = refract(wavelen*1.e-3, zd * np.pi / 180.) * 180. / np.pi * 3600. # arcsec\n",
    "    return np.sum(off * photons) / np.sum(photons)\n",
    "    ## Try using integration instead (as in chroma):\n",
    "    ##return np.trapz(off * photons, wavelen) #/ flux\n",
    "\n",
    "def refract(wavelength, zd, P=520.0, T=20.0, f=8.0):\n",
    "    sig_sqrd = 1.0 / (wavelength**2.0)\n",
    "    xnm1  = 1.e-6 * ( 64.328 + 29498.1 / (146.0 - sig_sqrd) + 255.4 / (41.0 - sig_sqrd) )\n",
    "    xnm1 *= P * (1.0 + (1.049 - 0.0157 * T) * 1.e-6 * P) / (720.883 * (1.0 + 0.003661 * T))\n",
    "    xnm1 -= 1.e-6 * f * (0.0624 - 0.000680 * sig_sqrd) / (1.0 + 0.003661 * T)\n",
    "    xn    = xnm1 + 1.0\n",
    "    r0    = (xn**2.0 - 1.0) / (2.0 * xn**2.0)\n",
    "    of    = r0 * np.tan(zd) # radians\n",
    "    return of\n",
    "\n",
    "star_SEDname = \"delta450nm.ascii\"\n",
    "star = Sed()\n",
    "#star.readSED_flambda(os.path.join(catDir, \"starSED/%s/%s%s\" % ('kurucz', star_SEDname, '')))\n",
    "star.readSED_flambda(star_SEDname)\n",
    "star.flambdaTofnu()\n",
    "plt.plot(star.wavelen, star.flambda)\n",
    "#nphoton = star.fnu / star.wavelen\n",
    "#plt.plot(star.wavelen, nphoton)"
   ]
  },
  {
   "cell_type": "code",
   "execution_count": 9,
   "metadata": {
    "collapsed": false
   },
   "outputs": [
    {
     "data": {
      "text/plain": [
       "[<matplotlib.lines.Line2D at 0x10c335210>]"
      ]
     },
     "execution_count": 9,
     "metadata": {},
     "output_type": "execute_result"
    },
    {
     "data": {
      "image/png": "[encoded data removed]",
      "text/plain": [
       "<matplotlib.figure.Figure at 0x10c05dfd0>"
      ]
     },
     "metadata": {},
     "output_type": "display_data"
    }
   ],
   "source": [
    "bps = bpDict.loadTotalBandpassesFromFiles()\n",
    "waveleng, fnug = star.resampleSED(star.wavelen, star.fnu, wavelen_match=bps['g'].wavelen)\n",
    "nphotong = fnug / waveleng\n",
    "plt.plot(waveleng, nphotong)"
   ]
  },
  {
   "cell_type": "code",
   "execution_count": 10,
   "metadata": {
    "collapsed": false
   },
   "outputs": [
    {
     "name": "stdout",
     "output_type": "stream",
     "text": [
      "29.0840705371\n",
      "(71, 37)\n"
     ]
    },
    {
     "data": {
      "text/plain": [
       "<matplotlib.axes._subplots.AxesSubplot at 0x10a6b3190>"
      ]
     },
     "execution_count": 10,
     "metadata": {},
     "output_type": "execute_result"
    },
    {
     "data": {
      "image/png": "[encoded data removed]",
      "text/plain": [
       "<matplotlib.figure.Figure at 0x10c006dd0>"
      ]
     },
     "metadata": {},
     "output_type": "display_data"
    }
   ],
   "source": [
    "##fluxg = nphotong * bps['g'].phi\n",
    "fluxg = fnug * bps['g'].phi\n",
    "dg1 = getOffset(waveleng, fluxg, zd1)\n",
    "print dg1\n",
    "\n",
    "zd2 = np.arccos(1./(airmass1 + dairmasses)) * 180./np.pi\n",
    "angles = np.linspace(0,70,71)\n",
    "dg2 = np.array([getOffset(waveleng, fluxg, zd) for zd in angles])   ## in zd2])\n",
    "#print zd2, dg2\n",
    "tmp_df = pd.DataFrame({'zd': angles, 'dg': dg2})\n",
    "\n",
    "## this line iterates over parallactic angles to get offsets... (from ACB writeup)\n",
    "Mg = np.sqrt(dg1**2 + dg2**2 - 2 * np.outer(dg1 * dg2, np.cos(dthetas * np.pi / 180.)).T).T\n",
    "print Mg.shape   ## dairmasses x dthetas\n",
    "\n",
    "sizeme(tmp_df)\n",
    "tmp_df.plot(x='zd', y='dg')"
   ]
  },
  {
   "cell_type": "code",
   "execution_count": 17,
   "metadata": {
    "collapsed": false
   },
   "outputs": [
    {
     "data": {
      "text/plain": [
       "[<matplotlib.lines.Line2D at 0x10e0be110>]"
      ]
     },
     "execution_count": 17,
     "metadata": {},
     "output_type": "execute_result"
    },
    {
     "data": {
      "image/png": "[encoded data removed]",
      "text/plain": [
       "<matplotlib.figure.Figure at 0x10dd06c50>"
      ]
     },
     "metadata": {},
     "output_type": "display_data"
    }
   ],
   "source": [
    "for \n",
    "fluxg = fnug * bps['i'].phi\n",
    "plt.subplot(221)\n",
    "plt.plot(waveleng, fluxg)\n",
    "plt.subplot(222)\n",
    "plt.plot(waveleng, fnug)\n",
    "plt.subplot(223)\n",
    "plt.plot(waveleng, bps['i'].phi)\n",
    "plt.subplot(224)\n",
    "plt.plot(waveleng, fluxg)"
   ]
  },
  {
   "cell_type": "code",
   "execution_count": 18,
   "metadata": {
    "collapsed": false
   },
   "outputs": [
    {
     "name": "stdout",
     "output_type": "stream",
     "text": [
      "[  2.18146516e-09   2.48121699e-09   2.80160904e-09 ...,   0.00000000e+00\n",
      "   0.00000000e+00   0.00000000e+00]\n"
     ]
    }
   ],
   "source": [
    "print bps['i'].phi"
   ]
  },
  {
   "cell_type": "code",
   "execution_count": 74,
   "metadata": {
    "collapsed": false
   },
   "outputs": [
    {
     "name": "stdout",
     "output_type": "stream",
     "text": [
      "u 1150.0 300.0 300.0\n",
      "g 1150.0 300.0 300.0\n",
      "r 1150.0 300.0 300.0\n",
      "i 1150.0 300.0 300.0\n",
      "z 1150.0 300.0 300.0\n",
      "y 1150.0 300.0 300.0\n"
     ]
    }
   ],
   "source": [
    "bps = bpDict.loadTotalBandpassesFromFiles()\n",
    "\n",
    "for bp in bps.keys():\n",
    "    bpobj = bps[bp]\n",
    "    #print bpobj.phi[bpobj.wavelen<=600].max()\n",
    "    bpobj.phi[bpobj.phi < 1e-4] = 0.\n",
    "    print bp, bpobj.wavelen_max, bpobj.wavelen_min, bpobj.wavelen.min()\n",
    "    bpobj.phi[(bpobj.wavelen > bpobj.wavelen_max)] = 0.\n",
    "    bpobj.phi[(bpobj.wavelen < bpobj.wavelen_min)] = 0."
   ]
  },
  {
   "cell_type": "code",
   "execution_count": 56,
   "metadata": {
    "collapsed": false
   },
   "outputs": [
    {
     "data": {
      "text/plain": [
       "[<matplotlib.lines.Line2D at 0x112fce690>]"
      ]
     },
     "execution_count": 56,
     "metadata": {},
     "output_type": "execute_result"
    },
    {
     "data": {
      "image/png": "[encoded data removed]",
      "text/plain": [
       "<matplotlib.figure.Figure at 0x112bc6090>"
      ]
     },
     "metadata": {},
     "output_type": "display_data"
    }
   ],
   "source": [
    "fluxg = fnug * bps['i'].phi\n",
    "plt.subplot(221)\n",
    "plt.plot(waveleng, fluxg)\n",
    "plt.subplot(222)\n",
    "plt.plot(waveleng, fnug)\n",
    "plt.subplot(223)\n",
    "plt.plot(waveleng, bps['i'].phi)\n",
    "plt.subplot(224)\n",
    "plt.plot(waveleng, fluxg)"
   ]
  },
  {
   "cell_type": "code",
   "execution_count": 41,
   "metadata": {
    "collapsed": false
   },
   "outputs": [
    {
     "data": {
      "text/plain": [
       "0.0"
      ]
     },
     "execution_count": 41,
     "metadata": {},
     "output_type": "execute_result"
    }
   ],
   "source": [
    "bp=bps['i']\n",
    "bp.phi.max()"
   ]
  },
  {
   "cell_type": "code",
   "execution_count": 72,
   "metadata": {
    "collapsed": true
   },
   "outputs": [],
   "source": [
    "import spec \n",
    "from scipy.interpolate import interp1d\n",
    "\n",
    "star_SEDname = \"delta450nm.ascii\"\n",
    "w,f = np.genfromtxt(star_SEDname).T\n",
    "ss = interp1d(w, f)\n",
    "\n",
    "SED = spec.SED(ss) ##.atRedshift(0.5)"
   ]
  },
  {
   "cell_type": "code",
   "execution_count": 73,
   "metadata": {
    "collapsed": false
   },
   "outputs": [
    {
     "name": "stdout",
     "output_type": "stream",
     "text": [
      "844.3 664.8\n",
      "844.3 664.8\n"
     ]
    }
   ],
   "source": [
    "filter_ = 'i'\n",
    "blue_limit = bps[filter_].wavelen[bps[filter_].phi >= 1e-4].min()\n",
    "red_limit = bps[filter_].wavelen[bps[filter_].phi >= 1e-4].max()\n",
    "print red_limit, blue_limit\n",
    "fdata = spec.Bandpass(bpDir+'/filter_{}.dat'.format(filter_), red_limit=red_limit, blue_limit=blue_limit)\n",
    "print fdata.red_limit, fdata.blue_limit"
   ]
  },
  {
   "cell_type": "code",
   "execution_count": null,
   "metadata": {
    "collapsed": true
   },
   "outputs": [],
   "source": []
  },
  {
   "cell_type": "code",
   "execution_count": null,
   "metadata": {
    "collapsed": true
   },
   "outputs": [],
   "source": []
  }
 ],
 "metadata": {
  "kernelspec": {
   "display_name": "Python 2",
   "language": "python",
   "name": "python2"
  },
  "language_info": {
   "codemirror_mode": {
    "name": "ipython",
    "version": 2
   },
   "file_extension": ".py",
   "mimetype": "text/x-python",
   "name": "python",
   "nbconvert_exporter": "python",
   "pygments_lexer": "ipython2",
   "version": "2.7.10"
  }
 },
 "nbformat": 4,
 "nbformat_minor": 0
}
