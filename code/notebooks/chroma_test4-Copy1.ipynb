{
 "cells": [
  {
   "cell_type": "markdown",
   "metadata": {},
   "source": [
    "### THIS IS A NEW TEST - make a SED with a flux signal between 650-600nm only (zero elsewhere)"
   ]
  },
  {
   "cell_type": "markdown",
   "metadata": {},
   "source": [
    "Same as chroma_test4 but use a SED with a single flux point at 650nm!\n",
    "\n",
    "Try to compute DCR for a given SED.\n",
    "\n",
    "Use a SED from the sims package. Note here we just use the sims package to define the catalog directory and wrap it with chroma.spec.sed -- this is slow.\n",
    "\n",
    "First need to do:\n",
    "\n",
    "```\n",
    "setup -t b1740 sims_sed_library\n",
    "setup -t b1740 throughputs\n",
    "```"
   ]
  },
  {
   "cell_type": "code",
   "execution_count": 7,
   "metadata": {
    "collapsed": false
   },
   "outputs": [],
   "source": [
    "import os\n",
    "import numpy as np\n",
    "\n",
    "import dcr\n",
    "import spec    ## dont forget to add $HOME/GIT_REPOS/chroma/chroma to PYTHONPATH before starting ipython notebook\n",
    "#import plot\n",
    "#import utils\n",
    "\n",
    "#import _mypath\n",
    "#import chroma\n",
    "\n",
    "#bpDir = '/Users/dreiss/GIT_REPOS/chroma/data/filters/'\n",
    "#bpDir = '/Users/dreiss/lsstsw/stack/DarwinX86/throughputs/master-ga98b3deed1/baseline/'\n",
    "bpDir = os.environ['LSST_THROUGHPUTS_DEFAULT']\n",
    "catDir = os.environ['SIMS_SED_LIBRARY_DIR']\n",
    "\n",
    "import matplotlib\n",
    "import matplotlib.pyplot as plt\n",
    "%matplotlib inline\n",
    "\n",
    "matplotlib.style.use('ggplot')\n",
    "\n",
    "## see http://matplotlib.org/users/colormaps.html for colormaps\n",
    "from matplotlib import cm"
   ]
  },
  {
   "cell_type": "code",
   "execution_count": 8,
   "metadata": {
    "collapsed": true
   },
   "outputs": [],
   "source": [
    "import pandas as pd\n",
    "\n",
    "## see: https://stackoverflow.com/questions/19536817/manipulate-html-module-font-size-in-ipython-notebook\n",
    "class sizeme():\n",
    "    \"\"\" Class to change html fontsize of object's representation\"\"\"\n",
    "    def __init__(self,ob, size=50, height=120):\n",
    "        self.ob = ob\n",
    "        self.size = size\n",
    "        self.height = height\n",
    "    def _repr_html_(self):\n",
    "        repl_tuple = (self.size, self.height, self.ob._repr_html_())\n",
    "        return u'<span style=\"font-size:{0}%; line-height:{1}%\">{2}</span>'.format(*repl_tuple)"
   ]
  },
  {
   "cell_type": "markdown",
   "metadata": {},
   "source": [
    "Looks like chroma.spec has a few useful functions like \n",
    "\n",
    "```\n",
    "calculateDCRMomentShifts(self, bandpass, **kwargs):\n",
    "```\n",
    "\n",
    "        @returns a tuple.  The first element is the vector of DCR first moment shifts, and the\n",
    "                 second element is the 2x2 matrix of DCR second (central) moment shifts.\n"
   ]
  },
  {
   "cell_type": "markdown",
   "metadata": {},
   "source": [
    "Use same stellar spectrum as S14 study, to start..."
   ]
  },
  {
   "cell_type": "code",
   "execution_count": 21,
   "metadata": {
    "collapsed": false
   },
   "outputs": [
    {
     "data": {
      "text/plain": [
       "[<matplotlib.lines.Line2D at 0x10bca2690>]"
      ]
     },
     "execution_count": 21,
     "metadata": {},
     "output_type": "execute_result"
    },
    {
     "data": {
      "image/png": "[encoded data removed]",
      "text/plain": [
       "<matplotlib.figure.Figure at 0x10bafce10>"
      ]
     },
     "metadata": {},
     "output_type": "display_data"
    }
   ],
   "source": [
    "from scipy.interpolate import interp1d\n",
    "\n",
    "star_SEDname = \"delta450nm.ascii\"\n",
    "w,f = np.genfromtxt(star_SEDname).T\n",
    "ss = interp1d(w, f)\n",
    "\n",
    "SED = spec.SED(ss) ##.atRedshift(0.5)\n",
    "#wave = np.arange(500.0, 901.0, 1.0)\n",
    "#photons = SED(wave)\n",
    "\n",
    "#scale = 1.2 * photons[(wave > 500) & (wave < 1000)].max()\n",
    "#plt.plot(wave, photons/scale)\n",
    "plt.plot(w,f)"
   ]
  },
  {
   "cell_type": "markdown",
   "metadata": {
    "collapsed": true
   },
   "source": [
    "Make a relative DCR curve for 'star' (assume ZD angle 20 deg.)"
   ]
  },
  {
   "cell_type": "code",
   "execution_count": 26,
   "metadata": {
    "collapsed": false
   },
   "outputs": [
    {
     "data": {
      "text/plain": [
       "<matplotlib.text.Text at 0x10c02ba50>"
      ]
     },
     "execution_count": 26,
     "metadata": {},
     "output_type": "execute_result"
    },
    {
     "data": {
      "image/png": "[encoded data removed]",
      "text/plain": [
       "<matplotlib.figure.Figure at 0x10bf90fd0>"
      ]
     },
     "metadata": {},
     "output_type": "display_data"
    }
   ],
   "source": [
    "# filters are stored in two columns: wavelength (nm), and throughput\n",
    "\n",
    "def compute_dcr(SED, filters='ugrizy', angles=np.linspace(0,70,14), relative=None, **kwargs):\n",
    "    if type(angles) is int or type(angles) is float:\n",
    "        angles = np.array([angles])\n",
    "    elif type(angles) is list:\n",
    "        angles = np.array(angles)        \n",
    "    if type(filters) is int or type(filters) is float:\n",
    "        filters = np.array([filters])\n",
    "    df = pd.DataFrame(pd.Series(angles)) #, index=pd.Series(angles))\n",
    "    for i, filter_ in enumerate(filters):\n",
    "        if type(filter_) is str:\n",
    "            fdata = spec.Bandpass(bpDir+'/filter_{}.dat'.format(filter_))\n",
    "            fwave, throughput = fdata.wave_list, fdata(fdata.wave_list)\n",
    "            shifts = np.array( [SED.calculateDCRMomentShifts(fdata, zenith_angle=angle * np.pi/180.0, **kwargs)[0].item(1) \n",
    "                            for angle in angles])\n",
    "            shifts = shifts * 3600.0 * 180.0/np.pi            \n",
    "            df = pd.concat([df, pd.Series(shifts)], axis=1, ignore_index=True)\n",
    "        else: # assume it's a single wavelength value (nm) then\n",
    "            shifts = np.array( [dcr.get_refraction(filter_, zenith=angle * np.pi/180.0, **kwargs) for angle in angles])\n",
    "            shifts = shifts * 3600.0 * 180.0/np.pi            \n",
    "            df = pd.concat([df, pd.Series(shifts)], axis=1, ignore_index=True)\n",
    "             \n",
    "    df.columns = np.insert(np.array(list(filters), dtype='S6'), 0, 'angle')\n",
    "    df = df.set_index('angle')\n",
    "    if relative is not None and np.any(df.columns.values == relative):\n",
    "        df2 = df.copy().sub(df[relative], axis=0)\n",
    "        return df2\n",
    "    else:\n",
    "        return df\n",
    "\n",
    "angles = np.linspace(0,70,71)\n",
    "\n",
    "DCRs = compute_dcr(SED, 'ugrizy', angles)\n",
    "\n",
    "import pickle\n",
    "pickle.dump(DCRs, open( \"save.p\", \"wb\" ))\n",
    "\n",
    "ax = DCRs.plot(colormap=cm.rainbow)\n",
    "ax.set_ylabel('Total refraction (star), arcsec')\n",
    "\n",
    "#DCRs = compute_dcr(sn_SED, 'ugrizy', angles, relative='r')\n",
    "#ax = DCRs.plot(colormap=cm.rainbow)\n",
    "#ax.set_ylabel('Relative refraction, arcsec')"
   ]
  },
  {
   "cell_type": "code",
   "execution_count": 27,
   "metadata": {
    "collapsed": false
   },
   "outputs": [
    {
     "data": {
      "text/plain": [
       "<matplotlib.text.Text at 0x10bf904d0>"
      ]
     },
     "execution_count": 27,
     "metadata": {},
     "output_type": "execute_result"
    },
    {
     "data": {
      "image/png": "[encoded data removed]",
      "text/plain": [
       "<matplotlib.figure.Figure at 0x10bf0b8d0>"
      ]
     },
     "metadata": {},
     "output_type": "display_data"
    }
   ],
   "source": [
    "DCRs = compute_dcr(SED, 'ugrizy', angles, relative='r')\n",
    "ax = DCRs.plot(colormap=cm.rainbow)\n",
    "ax.set_ylabel('Relative refraction (star), arcsec')\n",
    "\n",
    "#DCRs_gal = compute_dcr(gal_SED, 'ugrizy', angles, relative='r')\n",
    "#ax = DCRs_gal.plot(colormap=cm.rainbow)\n",
    "#ax.set_ylabel('Relative refraction, arcsec')"
   ]
  },
  {
   "cell_type": "code",
   "execution_count": 28,
   "metadata": {
    "collapsed": false
   },
   "outputs": [
    {
     "data": {
      "text/html": [
       "<span style=\"font-size:50%; line-height:120%\"><div>\n",
       "<table border=\"1\" class=\"dataframe\">\n",
       "  <thead>\n",
       "    <tr style=\"text-align: right;\">\n",
       "      <th></th>\n",
       "      <th>u</th>\n",
       "      <th>g</th>\n",
       "      <th>r</th>\n",
       "      <th>i</th>\n",
       "      <th>z</th>\n",
       "      <th>y</th>\n",
       "    </tr>\n",
       "    <tr>\n",
       "      <th>angle</th>\n",
       "      <th></th>\n",
       "      <th></th>\n",
       "      <th></th>\n",
       "      <th></th>\n",
       "      <th></th>\n",
       "      <th></th>\n",
       "    </tr>\n",
       "  </thead>\n",
       "  <tbody>\n",
       "    <tr>\n",
       "      <th>66</th>\n",
       "      <td>-0.005753</td>\n",
       "      <td>-0.013841</td>\n",
       "      <td>0</td>\n",
       "      <td>-0.000183</td>\n",
       "      <td>0.003794</td>\n",
       "      <td>-0.024859</td>\n",
       "    </tr>\n",
       "    <tr>\n",
       "      <th>67</th>\n",
       "      <td>-0.006034</td>\n",
       "      <td>-0.014517</td>\n",
       "      <td>0</td>\n",
       "      <td>-0.000192</td>\n",
       "      <td>0.003980</td>\n",
       "      <td>-0.026074</td>\n",
       "    </tr>\n",
       "    <tr>\n",
       "      <th>68</th>\n",
       "      <td>-0.006339</td>\n",
       "      <td>-0.015252</td>\n",
       "      <td>0</td>\n",
       "      <td>-0.000201</td>\n",
       "      <td>0.004181</td>\n",
       "      <td>-0.027394</td>\n",
       "    </tr>\n",
       "    <tr>\n",
       "      <th>69</th>\n",
       "      <td>-0.006672</td>\n",
       "      <td>-0.016053</td>\n",
       "      <td>0</td>\n",
       "      <td>-0.000212</td>\n",
       "      <td>0.004401</td>\n",
       "      <td>-0.028832</td>\n",
       "    </tr>\n",
       "    <tr>\n",
       "      <th>70</th>\n",
       "      <td>-0.007037</td>\n",
       "      <td>-0.016931</td>\n",
       "      <td>0</td>\n",
       "      <td>-0.000224</td>\n",
       "      <td>0.004641</td>\n",
       "      <td>-0.030408</td>\n",
       "    </tr>\n",
       "  </tbody>\n",
       "</table>\n",
       "</div></span>"
      ],
      "text/plain": [
       "<__main__.sizeme instance at 0x10bf62368>"
      ]
     },
     "execution_count": 28,
     "metadata": {},
     "output_type": "execute_result"
    }
   ],
   "source": [
    "sizeme(DCRs.tail())"
   ]
  },
  {
   "cell_type": "code",
   "execution_count": null,
   "metadata": {
    "collapsed": true
   },
   "outputs": [],
   "source": []
  }
 ],
 "metadata": {
  "kernelspec": {
   "display_name": "Python 2",
   "language": "python",
   "name": "python2"
  },
  "language_info": {
   "codemirror_mode": {
    "name": "ipython",
    "version": 2
   },
   "file_extension": ".py",
   "mimetype": "text/x-python",
   "name": "python",
   "nbconvert_exporter": "python",
   "pygments_lexer": "ipython2",
   "version": "2.7.10"
  }
 },
 "nbformat": 4,
 "nbformat_minor": 0
}
