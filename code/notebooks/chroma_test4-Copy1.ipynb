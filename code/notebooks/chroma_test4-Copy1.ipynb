{
 "cells": [
  {
   "cell_type": "markdown",
   "metadata": {},
   "source": [
    "### THIS IS A NEW TEST - make a SED with a flux signal between 650-600nm only (zero elsewhere)"
   ]
  },
  {
   "cell_type": "markdown",
   "metadata": {},
   "source": [
    "Same as chroma_test4 but use a SED with a single flux point at 650nm!\n",
    "\n",
    "Try to compute DCR for a given SED.\n",
    "\n",
    "Use a SED from the sims package. Note here we just use the sims package to define the catalog directory and wrap it with chroma.spec.sed -- this is slow.\n",
    "\n",
    "First need to do:\n",
    "\n",
    "```\n",
    "setup -t b1740 sims_sed_library\n",
    "setup -t b1740 throughputs\n",
    "```"
   ]
  },
  {
   "cell_type": "code",
   "execution_count": 1,
   "metadata": {
    "collapsed": false
   },
   "outputs": [],
   "source": [
    "import os\n",
    "import numpy as np\n",
    "\n",
    "import dcr\n",
    "import spec    ## dont forget to add $HOME/GIT_REPOS/chroma/chroma to PYTHONPATH before starting ipython notebook\n",
    "#import plot\n",
    "#import utils\n",
    "\n",
    "#import _mypath\n",
    "#import chroma\n",
    "\n",
    "#bpDir = '/Users/dreiss/GIT_REPOS/chroma/data/filters/'\n",
    "#bpDir = '/Users/dreiss/lsstsw/stack/DarwinX86/throughputs/master-ga98b3deed1/baseline/'\n",
    "bpDir = os.environ['LSST_THROUGHPUTS_DEFAULT']\n",
    "catDir = os.environ['SIMS_SED_LIBRARY_DIR']\n",
    "\n",
    "import matplotlib\n",
    "import matplotlib.pyplot as plt\n",
    "%matplotlib inline\n",
    "\n",
    "matplotlib.style.use('ggplot')\n",
    "\n",
    "## see http://matplotlib.org/users/colormaps.html for colormaps\n",
    "from matplotlib import cm"
   ]
  },
  {
   "cell_type": "code",
   "execution_count": 2,
   "metadata": {
    "collapsed": true
   },
   "outputs": [],
   "source": [
    "import pandas as pd\n",
    "\n",
    "## see: https://stackoverflow.com/questions/19536817/manipulate-html-module-font-size-in-ipython-notebook\n",
    "class sizeme():\n",
    "    \"\"\" Class to change html fontsize of object's representation\"\"\"\n",
    "    def __init__(self,ob, size=50, height=120):\n",
    "        self.ob = ob\n",
    "        self.size = size\n",
    "        self.height = height\n",
    "    def _repr_html_(self):\n",
    "        repl_tuple = (self.size, self.height, self.ob._repr_html_())\n",
    "        return u'<span style=\"font-size:{0}%; line-height:{1}%\">{2}</span>'.format(*repl_tuple)"
   ]
  },
  {
   "cell_type": "markdown",
   "metadata": {},
   "source": [
    "Looks like chroma.spec has a few useful functions like \n",
    "\n",
    "```\n",
    "calculateDCRMomentShifts(self, bandpass, **kwargs):\n",
    "```\n",
    "\n",
    "        @returns a tuple.  The first element is the vector of DCR first moment shifts, and the\n",
    "                 second element is the 2x2 matrix of DCR second (central) moment shifts.\n"
   ]
  },
  {
   "cell_type": "markdown",
   "metadata": {},
   "source": [
    "Use same stellar spectrum as S14 study, to start..."
   ]
  },
  {
   "cell_type": "code",
   "execution_count": 16,
   "metadata": {
    "collapsed": false
   },
   "outputs": [
    {
     "data": {
      "text/plain": [
       "[<matplotlib.lines.Line2D at 0x10b677650>]"
      ]
     },
     "execution_count": 16,
     "metadata": {},
     "output_type": "execute_result"
    },
    {
     "data": {
      "image/png": "[encoded data removed]",
      "text/plain": [
       "<matplotlib.figure.Figure at 0x10b3c5910>"
      ]
     },
     "metadata": {},
     "output_type": "display_data"
    }
   ],
   "source": [
    "from scipy.interpolate import interp1d\n",
    "\n",
    "star_SEDname = \"delta450nm.ascii\"\n",
    "w,f = np.genfromtxt(star_SEDname).T\n",
    "ss = interp1d(w, f)\n",
    "\n",
    "SED = spec.SED(ss) ##.atRedshift(0.5)\n",
    "plt.plot(w,f)"
   ]
  },
  {
   "cell_type": "code",
   "execution_count": 17,
   "metadata": {
    "collapsed": false
   },
   "outputs": [
    {
     "data": {
      "text/plain": [
       "[<matplotlib.lines.Line2D at 0x10b71f5d0>]"
      ]
     },
     "execution_count": 17,
     "metadata": {},
     "output_type": "execute_result"
    },
    {
     "data": {
      "image/png": "[encoded data removed]",
      "text/plain": [
       "<matplotlib.figure.Figure at 0x10b7a8e50>"
      ]
     },
     "metadata": {},
     "output_type": "display_data"
    }
   ],
   "source": [
    "wave = np.arange(300.0, 1200.0, 1.0)\n",
    "photons = SED(wave)\n",
    "\n",
    "#scale = 1.2 * photons[(wave > 500) & (wave < 1000)].max()\n",
    "plt.plot(wave, photons) #/scale)"
   ]
  },
  {
   "cell_type": "markdown",
   "metadata": {
    "collapsed": true
   },
   "source": [
    "Make a relative DCR curve for 'star' (assume ZD angle 20 deg.)"
   ]
  },
  {
   "cell_type": "code",
   "execution_count": 28,
   "metadata": {
    "collapsed": false
   },
   "outputs": [
    {
     "name": "stdout",
     "output_type": "stream",
     "text": [
      "415.8 313.9\n",
      "561.3 385.7\n",
      "703.9 527.4\n",
      "844.3 664.8\n",
      "959.2 788.8\n",
      "1080.9 879.0\n"
     ]
    },
    {
     "data": {
      "text/plain": [
       "<matplotlib.text.Text at 0x10ec55390>"
      ]
     },
     "execution_count": 28,
     "metadata": {},
     "output_type": "execute_result"
    },
    {
     "data": {
      "image/png": "[encoded data removed]",
      "text/plain": [
       "<matplotlib.figure.Figure at 0x10dd9b150>"
      ]
     },
     "metadata": {},
     "output_type": "display_data"
    }
   ],
   "source": [
    "# filters are stored in two columns: wavelength (nm), and throughput\n",
    "# use LSST Bandpass classes to read in the data, set the limits and set up the chroma.spec.Bandpass'es\n",
    "\n",
    "import lsst.sims.photUtils.Bandpass as Bandpass\n",
    "import lsst.sims.photUtils.BandpassDict as bpDict\n",
    "bps = bpDict.loadTotalBandpassesFromFiles()\n",
    "for bp in bps.keys():\n",
    "    bpobj = bps[bp]\n",
    "    bpobj.phi[bpobj.phi <= 1.e-4] = 0.\n",
    "    bpobj.phi[(bpobj.wavelen > bpobj.wavelen_max)] = 0.\n",
    "    bpobj.phi[(bpobj.wavelen < bpobj.wavelen_min)] = 0.\n",
    "\n",
    "sbps = {}\n",
    "for i, filter_ in enumerate('ugrizy'):\n",
    "    blue_limit = bps[filter_].wavelen[bps[filter_].phi >= 1e-4].min()\n",
    "    red_limit = bps[filter_].wavelen[bps[filter_].phi >= 1e-4].max()\n",
    "    print red_limit, blue_limit\n",
    "    fdata = spec.Bandpass(bpDir+'/filter_{}.dat'.format(filter_), red_limit=red_limit, blue_limit=blue_limit)\n",
    "    sbps[filter_] = fdata\n",
    "\n",
    "def compute_dcr(SED, filters='ugrizy', angles=np.linspace(0,70,14), relative=None, **kwargs):\n",
    "    if type(angles) is int or type(angles) is float:\n",
    "        angles = np.array([angles])\n",
    "    elif type(angles) is list:\n",
    "        angles = np.array(angles)        \n",
    "    if type(filters) is int or type(filters) is float:\n",
    "        filters = np.array([filters])\n",
    "    df = pd.DataFrame(pd.Series(angles)) #, index=pd.Series(angles))\n",
    "    for i, filter_ in enumerate(filters):\n",
    "        if type(filter_) is str:\n",
    "            #fdata = spec.Bandpass(bpDir+'/filter_{}.dat'.format(filter_))\n",
    "            fdata = sbps[filter_]\n",
    "            fwave, throughput = fdata.wave_list, fdata(fdata.wave_list)\n",
    "            shifts = np.array( [SED.calculateDCRMomentShifts(fdata, zenith_angle=angle * np.pi/180.0, **kwargs)[0].item(1) \n",
    "                            for angle in angles])\n",
    "            shifts = shifts * 3600.0 * 180.0/np.pi            \n",
    "            df = pd.concat([df, pd.Series(shifts)], axis=1, ignore_index=True)\n",
    "        else: # assume it's a single wavelength value (nm) then\n",
    "            shifts = np.array( [dcr.get_refraction(filter_, zenith=angle * np.pi/180.0, **kwargs) for angle in angles])\n",
    "            shifts = shifts * 3600.0 * 180.0/np.pi            \n",
    "            df = pd.concat([df, pd.Series(shifts)], axis=1, ignore_index=True)\n",
    "             \n",
    "    df.columns = np.insert(np.array(list(filters), dtype='S6'), 0, 'angle')\n",
    "    df = df.set_index('angle')\n",
    "    if relative is not None and np.any(df.columns.values == relative):\n",
    "        df2 = df.copy().sub(df[relative], axis=0)\n",
    "        return df2\n",
    "    else:\n",
    "        return df\n",
    "\n",
    "angles = np.linspace(0,70,71)\n",
    "\n",
    "DCRs = compute_dcr(SED, 'ugrizy', angles)\n",
    "\n",
    "ax = DCRs.plot(colormap=cm.rainbow)\n",
    "ax.set_ylabel('Total refraction (star), arcsec')\n",
    "\n",
    "#DCRs = compute_dcr(sn_SED, 'ugrizy', angles, relative='r')\n",
    "#ax = DCRs.plot(colormap=cm.rainbow)\n",
    "#ax.set_ylabel('Relative refraction, arcsec')"
   ]
  },
  {
   "cell_type": "code",
   "execution_count": 29,
   "metadata": {
    "collapsed": false
   },
   "outputs": [
    {
     "data": {
      "text/html": [
       "<span style=\"font-size:50%; line-height:120%\"><div>\n",
       "<table border=\"1\" class=\"dataframe\">\n",
       "  <thead>\n",
       "    <tr style=\"text-align: right;\">\n",
       "      <th></th>\n",
       "      <th>u</th>\n",
       "      <th>g</th>\n",
       "      <th>r</th>\n",
       "      <th>i</th>\n",
       "      <th>z</th>\n",
       "      <th>y</th>\n",
       "    </tr>\n",
       "    <tr>\n",
       "      <th>angle</th>\n",
       "      <th></th>\n",
       "      <th></th>\n",
       "      <th></th>\n",
       "      <th></th>\n",
       "      <th></th>\n",
       "      <th></th>\n",
       "    </tr>\n",
       "  </thead>\n",
       "  <tbody>\n",
       "    <tr>\n",
       "      <th>66</th>\n",
       "      <td>NaN</td>\n",
       "      <td>87.098965</td>\n",
       "      <td>NaN</td>\n",
       "      <td>NaN</td>\n",
       "      <td>NaN</td>\n",
       "      <td>NaN</td>\n",
       "    </tr>\n",
       "    <tr>\n",
       "      <th>67</th>\n",
       "      <td>NaN</td>\n",
       "      <td>91.357499</td>\n",
       "      <td>NaN</td>\n",
       "      <td>NaN</td>\n",
       "      <td>NaN</td>\n",
       "      <td>NaN</td>\n",
       "    </tr>\n",
       "    <tr>\n",
       "      <th>68</th>\n",
       "      <td>NaN</td>\n",
       "      <td>95.981289</td>\n",
       "      <td>NaN</td>\n",
       "      <td>NaN</td>\n",
       "      <td>NaN</td>\n",
       "      <td>NaN</td>\n",
       "    </tr>\n",
       "    <tr>\n",
       "      <th>69</th>\n",
       "      <td>NaN</td>\n",
       "      <td>101.022639</td>\n",
       "      <td>NaN</td>\n",
       "      <td>NaN</td>\n",
       "      <td>NaN</td>\n",
       "      <td>NaN</td>\n",
       "    </tr>\n",
       "    <tr>\n",
       "      <th>70</th>\n",
       "      <td>NaN</td>\n",
       "      <td>106.544311</td>\n",
       "      <td>NaN</td>\n",
       "      <td>NaN</td>\n",
       "      <td>NaN</td>\n",
       "      <td>NaN</td>\n",
       "    </tr>\n",
       "  </tbody>\n",
       "</table>\n",
       "</div></span>"
      ],
      "text/plain": [
       "<__main__.sizeme instance at 0x10df43638>"
      ]
     },
     "execution_count": 29,
     "metadata": {},
     "output_type": "execute_result"
    }
   ],
   "source": [
    "sizeme(DCRs.tail())"
   ]
  },
  {
   "cell_type": "code",
   "execution_count": 30,
   "metadata": {
    "collapsed": false
   },
   "outputs": [],
   "source": [
    "import pickle\n",
    "pickle.dump(DCRs, open(\"save.p\", \"wb\"))"
   ]
  },
  {
   "cell_type": "code",
   "execution_count": null,
   "metadata": {
    "collapsed": true
   },
   "outputs": [],
   "source": []
  }
 ],
 "metadata": {
  "kernelspec": {
   "display_name": "Python 2",
   "language": "python",
   "name": "python2"
  },
  "language_info": {
   "codemirror_mode": {
    "name": "ipython",
    "version": 2
   },
   "file_extension": ".py",
   "mimetype": "text/x-python",
   "name": "python",
   "nbconvert_exporter": "python",
   "pygments_lexer": "ipython2",
   "version": "2.7.10"
  }
 },
 "nbformat": 4,
 "nbformat_minor": 0
}
