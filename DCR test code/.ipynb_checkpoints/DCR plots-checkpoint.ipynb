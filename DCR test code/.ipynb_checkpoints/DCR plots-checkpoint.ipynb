{
 "cells": [
  {
   "cell_type": "code",
   "execution_count": 32,
   "metadata": {
    "collapsed": false
   },
   "outputs": [],
   "source": [
    "%matplotlib inline\n",
    "import calcRefractiveIndex\n",
    "from calcRefractiveIndex import refraction as refraction\n",
    "from calcRefractiveIndex import diff_refraction as diff\n",
    "from matplotlib import pyplot as plt\n",
    "import numpy as np\n",
    "import math"
   ]
  },
  {
   "cell_type": "code",
   "execution_count": 4,
   "metadata": {
    "collapsed": true
   },
   "outputs": [],
   "source": [
    "arcsec=3600."
   ]
  },
  {
   "cell_type": "code",
   "execution_count": 51,
   "metadata": {
    "collapsed": false
   },
   "outputs": [],
   "source": [
    "def minmax(var):\n",
    "    return [np.min(var),np.max(var)]"
   ]
  },
  {
   "cell_type": "code",
   "execution_count": 5,
   "metadata": {
    "collapsed": false,
    "scrolled": true
   },
   "outputs": [
    {
     "data": {
      "text/plain": [
       "0.4015809870788631"
      ]
     },
     "execution_count": 5,
     "metadata": {},
     "output_type": "execute_result"
    }
   ],
   "source": [
    "diff(20.,wavelength=354.,bandwidth=66.)*arcsec"
   ]
  },
  {
   "cell_type": "code",
   "execution_count": 75,
   "metadata": {
    "collapsed": false
   },
   "outputs": [
    {
     "name": "stdout",
     "output_type": "stream",
     "text": [
      "100\n",
      "[-6.5, 26.5]\n"
     ]
    }
   ],
   "source": [
    "base_temp = 10.\n",
    "temps=np.array(range(100))/3.\n",
    "temps = base_temp + temps - np.mean(temps)\n",
    "print(temps.size)\n",
    "print(minmax(temps))"
   ]
  },
  {
   "cell_type": "code",
   "execution_count": 62,
   "metadata": {
    "collapsed": false
   },
   "outputs": [
    {
     "name": "stdout",
     "output_type": "stream",
     "text": [
      "0.771973684211\n"
     ]
    }
   ],
   "source": [
    "base_pressure = 586.7 # mm Hg\n",
    "base_pressure_atm=base_pressure / 760.\n",
    "print(base_pressure_atm)"
   ]
  },
  {
   "cell_type": "code",
   "execution_count": 64,
   "metadata": {
    "collapsed": false
   },
   "outputs": [
    {
     "name": "stdout",
     "output_type": "stream",
     "text": [
      "201\n",
      "[0.733375, 0.88776973684210536]\n"
     ]
    }
   ],
   "source": [
    "pressure_delta = 0.001\n",
    "pressure_range = 0.1\n",
    "pressures = (np.array(range(1+int(2*pressure_range/pressure_delta)))* pressure_delta - pressure_range /2.) * base_pressure_atm + base_pressure_atm\n",
    "print(pressures.size)\n",
    "print(minmax(pressures))"
   ]
  },
  {
   "cell_type": "code",
   "execution_count": 66,
   "metadata": {
    "collapsed": false,
    "scrolled": true
   },
   "outputs": [
    {
     "name": "stdout",
     "output_type": "stream",
     "text": [
      "151\n",
      "[-75.0, 75.0]\n"
     ]
    }
   ],
   "source": [
    "angle_delta = 1.\n",
    "angle_max = 75.\n",
    "zenith_angles = np.array(range(1+int(2*angle_max/angle_delta))) * angle_delta - angle_max\n",
    "print(zenith_angles.size)\n",
    "print(minmax(zenith_angles))"
   ]
  },
  {
   "cell_type": "markdown",
   "metadata": {},
   "source": [
    "Now create a 3D array of differential refraction amplitudes as a function of zenith angle, temperature, and pressure"
   ]
  },
  {
   "cell_type": "code",
   "execution_count": 71,
   "metadata": {
    "collapsed": false
   },
   "outputs": [],
   "source": [
    "diff_refract_arr = np.zeros([zenith_angles.size, temps.size, pressures.size])"
   ]
  },
  {
   "cell_type": "code",
   "execution_count": 76,
   "metadata": {
    "collapsed": false
   },
   "outputs": [
    {
     "ename": "TypeError",
     "evalue": "only length-1 arrays can be converted to Python scalars",
     "output_type": "error",
     "traceback": [
      "\u001b[0;31m---------------------------------------------------------------------------\u001b[0m",
      "\u001b[0;31mTypeError\u001b[0m                                 Traceback (most recent call last)",
      "\u001b[0;32m<ipython-input-76-5d7a4e6115ac>\u001b[0m in \u001b[0;36m<module>\u001b[0;34m()\u001b[0m\n\u001b[1;32m      2\u001b[0m \u001b[0mbandwidth\u001b[0m \u001b[0;34m=\u001b[0m \u001b[0;36m66.\u001b[0m\u001b[0;34m\u001b[0m\u001b[0m\n\u001b[1;32m      3\u001b[0m test = diff(zenith_angles, wavelength=wavelength, bandwidth = bandwidth, temperature = base_temp, \n\u001b[0;32m----> 4\u001b[0;31m             atmospheric_pressure = base_pressure_atm)\n\u001b[0m",
      "\u001b[0;32m/Users/sullivan/LSST/LSST-DCR/DCR test code/calcRefractiveIndex.pyc\u001b[0m in \u001b[0;36mdiff_refraction\u001b[0;34m(zenith_angle, wavelength, bandwidth, atmospheric_pressure, water_vapor_pressure, temperature, latitude, altitude)\u001b[0m\n\u001b[1;32m     80\u001b[0m \u001b[0;34m\u001b[0m\u001b[0m\n\u001b[1;32m     81\u001b[0m \trefraction_start = refraction(zenith_angle, wavelength_start, atmospheric_pressure, water_vapor_pressure,\n\u001b[0;32m---> 82\u001b[0;31m \t\ttemperature, latitude, altitude)\n\u001b[0m\u001b[1;32m     83\u001b[0m \trefraction_end = refraction(zenith_angle, wavelength_end, atmospheric_pressure, water_vapor_pressure,\n\u001b[1;32m     84\u001b[0m \t\ttemperature, latitude, altitude)\n",
      "\u001b[0;32m/Users/sullivan/LSST/LSST-DCR/DCR test code/calcRefractiveIndex.pyc\u001b[0m in \u001b[0;36mrefraction\u001b[0;34m(zenith_angle, wavelength, atmospheric_pressure, water_vapor_pressure, temperature, latitude, altitude)\u001b[0m\n\u001b[1;32m     64\u001b[0m \t\t-0.00000583 * math.sin(math.radians(2.*latitude))**2. - 0.000000315 * altitude)\n\u001b[1;32m     65\u001b[0m \u001b[0;34m\u001b[0m\u001b[0m\n\u001b[0;32m---> 66\u001b[0;31m         \u001b[0mtanZ\u001b[0m \u001b[0;34m=\u001b[0m \u001b[0mmath\u001b[0m\u001b[0;34m.\u001b[0m\u001b[0mtan\u001b[0m\u001b[0;34m(\u001b[0m\u001b[0mmath\u001b[0m\u001b[0;34m.\u001b[0m\u001b[0mradians\u001b[0m\u001b[0;34m(\u001b[0m\u001b[0mzenith_angle\u001b[0m\u001b[0;34m)\u001b[0m\u001b[0;34m)\u001b[0m\u001b[0;34m\u001b[0m\u001b[0m\n\u001b[0m\u001b[1;32m     67\u001b[0m \u001b[0;34m\u001b[0m\u001b[0m\n\u001b[1;32m     68\u001b[0m \treturn math.degrees(reduced_n * relative_gravity * (1. - atmos_scale) * tanZ\t+\n",
      "\u001b[0;31mTypeError\u001b[0m: only length-1 arrays can be converted to Python scalars"
     ]
    }
   ],
   "source": [
    "wavelength = 354.\n",
    "bandwidth = 66.\n",
    "test = diff(zenith_angles, wavelength=wavelength, bandwidth = bandwidth, temperature = base_temp, \n",
    "            atmospheric_pressure = base_pressure_atm)"
   ]
  },
  {
   "cell_type": "code",
   "execution_count": null,
   "metadata": {
    "collapsed": true
   },
   "outputs": [],
   "source": []
  }
 ],
 "metadata": {
  "kernelspec": {
   "display_name": "Python 2",
   "language": "python",
   "name": "python2"
  },
  "language_info": {
   "codemirror_mode": {
    "name": "ipython",
    "version": 2
   },
   "file_extension": ".py",
   "mimetype": "text/x-python",
   "name": "python",
   "nbconvert_exporter": "python",
   "pygments_lexer": "ipython2",
   "version": "2.7.10"
  }
 },
 "nbformat": 4,
 "nbformat_minor": 0
}
