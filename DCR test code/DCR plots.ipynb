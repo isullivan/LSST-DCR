{
 "cells": [
  {
   "cell_type": "code",
   "execution_count": 19,
   "metadata": {
    "collapsed": false
   },
   "outputs": [],
   "source": [
    "%matplotlib inline\n",
    "import calcRefractiveIndex\n",
    "from calcRefractiveIndex import refraction as refraction\n",
    "from calcRefractiveIndex import diff_refraction as diff\n",
    "from matplotlib import pyplot as plt\n",
    "import numpy as np"
   ]
  },
  {
   "cell_type": "code",
   "execution_count": 18,
   "metadata": {
    "collapsed": false
   },
   "outputs": [
    {
     "data": {
      "text/plain": [
       "<module 'calcRefractiveIndex' from 'calcRefractiveIndex.py'>"
      ]
     },
     "execution_count": 18,
     "metadata": {},
     "output_type": "execute_result"
    }
   ],
   "source": [
    "reload(calcRefractiveIndex)"
   ]
  },
  {
   "cell_type": "code",
   "execution_count": 2,
   "metadata": {
    "collapsed": true
   },
   "outputs": [],
   "source": [
    "def arcsec(var):\n",
    "    return var * 3600."
   ]
  },
  {
   "cell_type": "code",
   "execution_count": 3,
   "metadata": {
    "collapsed": false
   },
   "outputs": [],
   "source": [
    "def minmax(var):\n",
    "    return [np.min(var),np.max(var)]"
   ]
  },
  {
   "cell_type": "code",
   "execution_count": 20,
   "metadata": {
    "collapsed": false,
    "scrolled": true
   },
   "outputs": [
    {
     "name": "stdout",
     "output_type": "stream",
     "text": [
      "27978.6908907\n",
      "20.9904089373\n"
     ]
    }
   ],
   "source": [
    "print(calcRefractiveIndex.n_delta(354., 1., 0.02, 20.) )\n",
    "print(arcsec(refraction(20.,wavelength=354., atmospheric_pressure = 1., water_vapor_pressure = 0.02,\n",
    "                        temperature = 20. , latitude = -30.244639, altitude = 2663.)))\n",
    "#print(arcsec(diff(20.,wavelength=354.,bandwidth=66., atmospheric_pressure = 1., \n",
    "#                  water_vapor_pressure = 0.02, temperature = 20. , latitude = -30.244639, altitude = 2663.)))"
   ]
  },
  {
   "cell_type": "code",
   "execution_count": 21,
   "metadata": {
    "collapsed": false
   },
   "outputs": [
    {
     "name": "stdout",
     "output_type": "stream",
     "text": [
      "100\n",
      "[-6.5, 26.5]\n"
     ]
    }
   ],
   "source": [
    "base_temp = 10.\n",
    "temps=np.array(range(100))/3.\n",
    "temps = base_temp + temps - np.mean(temps)\n",
    "print(temps.size)\n",
    "print(minmax(temps))"
   ]
  },
  {
   "cell_type": "code",
   "execution_count": 22,
   "metadata": {
    "collapsed": false
   },
   "outputs": [
    {
     "name": "stdout",
     "output_type": "stream",
     "text": [
      "0.771973684211\n"
     ]
    }
   ],
   "source": [
    "base_pressure = 586.7 # mm Hg\n",
    "base_pressure_atm=base_pressure / 760.\n",
    "print(base_pressure_atm)"
   ]
  },
  {
   "cell_type": "code",
   "execution_count": 23,
   "metadata": {
    "collapsed": false
   },
   "outputs": [
    {
     "name": "stdout",
     "output_type": "stream",
     "text": [
      "201\n",
      "[0.733375, 0.88776973684210536]\n"
     ]
    }
   ],
   "source": [
    "pressure_delta = 0.001\n",
    "pressure_range = 0.1\n",
    "pressures = ((np.array(range(1+int(2*pressure_range/pressure_delta)))* pressure_delta - pressure_range /2.) \n",
    "            * base_pressure_atm + base_pressure_atm)\n",
    "print(pressures.size)\n",
    "print(minmax(pressures))"
   ]
  },
  {
   "cell_type": "code",
   "execution_count": 24,
   "metadata": {
    "collapsed": false,
    "scrolled": true
   },
   "outputs": [
    {
     "name": "stdout",
     "output_type": "stream",
     "text": [
      "151\n",
      "[-75.0, 75.0]\n"
     ]
    }
   ],
   "source": [
    "angle_delta = 1.\n",
    "angle_max = 75.\n",
    "zenith_angles = np.array(range(1+int(2*angle_max/angle_delta))) * angle_delta - angle_max\n",
    "print(zenith_angles.size)\n",
    "print(minmax(zenith_angles))"
   ]
  },
  {
   "cell_type": "markdown",
   "metadata": {},
   "source": [
    "Now create a 3D array of differential refraction amplitudes as a function of zenith angle, temperature, and pressure"
   ]
  },
  {
   "cell_type": "code",
   "execution_count": 26,
   "metadata": {
    "collapsed": false
   },
   "outputs": [],
   "source": [
    "diff_refract_arr = np.zeros([temps.size, zenith_angles.size, pressures.size])"
   ]
  },
  {
   "cell_type": "code",
   "execution_count": 25,
   "metadata": {
    "collapsed": false
   },
   "outputs": [],
   "source": [
    "wavelength = 354.\n",
    "bandwidth = 66.\n",
    "test = diff(zenith_angles, wavelength=wavelength, bandwidth = bandwidth, temperature = base_temp, \n",
    "            atmospheric_pressure = base_pressure_atm)"
   ]
  },
  {
   "cell_type": "code",
   "execution_count": 27,
   "metadata": {
    "collapsed": false,
    "scrolled": true
   },
   "outputs": [
    {
     "data": {
      "text/plain": [
       "(151,)"
      ]
     },
     "execution_count": 27,
     "metadata": {},
     "output_type": "execute_result"
    }
   ],
   "source": [
    "zenith_angles.shape"
   ]
  },
  {
   "cell_type": "code",
   "execution_count": 28,
   "metadata": {
    "collapsed": false
   },
   "outputs": [
    {
     "data": {
      "text/plain": [
       "[<matplotlib.lines.Line2D at 0x10e07fdd0>]"
      ]
     },
     "execution_count": 28,
     "metadata": {},
     "output_type": "execute_result"
    },
    {
     "data": {
      "image/png": "[encoded data removed]",
      "text/plain": [
       "<matplotlib.figure.Figure at 0x10df63a50>"
      ]
     },
     "metadata": {},
     "output_type": "display_data"
    }
   ],
   "source": [
    "plt.plot(zenith_angles,arcsec(test))"
   ]
  },
  {
   "cell_type": "code",
   "execution_count": 29,
   "metadata": {
    "collapsed": false
   },
   "outputs": [],
   "source": [
    "test2 = diff(20., wavelength=wavelength, bandwidth = bandwidth, temperature = temps, \n",
    "            atmospheric_pressure = base_pressure_atm)"
   ]
  },
  {
   "cell_type": "code",
   "execution_count": 30,
   "metadata": {
    "collapsed": false,
    "scrolled": true
   },
   "outputs": [
    {
     "data": {
      "text/plain": [
       "[<matplotlib.lines.Line2D at 0x10f91b190>]"
      ]
     },
     "execution_count": 30,
     "metadata": {},
     "output_type": "execute_result"
    },
    {
     "data": {
      "image/png": "[encoded data removed]",
      "text/plain": [
       "<matplotlib.figure.Figure at 0x10bba7f50>"
      ]
     },
     "metadata": {},
     "output_type": "display_data"
    }
   ],
   "source": [
    "plt.plot(temps,arcsec(test2))"
   ]
  },
  {
   "cell_type": "code",
   "execution_count": 31,
   "metadata": {
    "collapsed": false
   },
   "outputs": [],
   "source": [
    "test3 = diff(zenith_angles, wavelength=wavelength, bandwidth = bandwidth, temperature = temps, \n",
    "            atmospheric_pressure = base_pressure_atm)"
   ]
  },
  {
   "cell_type": "code",
   "execution_count": 32,
   "metadata": {
    "collapsed": false
   },
   "outputs": [
    {
     "name": "stdout",
     "output_type": "stream",
     "text": [
      "((100, 151), <type 'numpy.ndarray'>)\n"
     ]
    }
   ],
   "source": [
    "print(test3.shape, type(test3))"
   ]
  },
  {
   "cell_type": "code",
   "execution_count": 33,
   "metadata": {
    "collapsed": false
   },
   "outputs": [],
   "source": [
    "for p_i in range(pressures.size):\n",
    "    diff_refract_arr[:, :, p_i] = diff(zenith_angles, wavelength=wavelength, bandwidth = bandwidth, \n",
    "            temperature = temps, atmospheric_pressure = pressures[p_i])"
   ]
  },
  {
   "cell_type": "code",
   "execution_count": 34,
   "metadata": {
    "collapsed": false
   },
   "outputs": [
    {
     "name": "stdout",
     "output_type": "stream",
     "text": [
      "((100, 151, 201), <type 'numpy.ndarray'>)\n"
     ]
    }
   ],
   "source": [
    "print(diff_refract_arr.shape, type(diff_refract_arr))"
   ]
  },
  {
   "cell_type": "code",
   "execution_count": null,
   "metadata": {
    "collapsed": true
   },
   "outputs": [],
   "source": []
  }
 ],
 "metadata": {
  "kernelspec": {
   "display_name": "Python 2",
   "language": "python",
   "name": "python2"
  },
  "language_info": {
   "codemirror_mode": {
    "name": "ipython",
    "version": 2
   },
   "file_extension": ".py",
   "mimetype": "text/x-python",
   "name": "python",
   "nbconvert_exporter": "python",
   "pygments_lexer": "ipython2",
   "version": "2.7.10"
  }
 },
 "nbformat": 4,
 "nbformat_minor": 0
}
